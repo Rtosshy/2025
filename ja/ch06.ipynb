{
  "cells": [
    {
      "cell_type": "markdown",
      "id": "8df29512-a5c0-4e06-8c53-91eaab143762",
      "metadata": {
        "editable": true,
        "id": "8df29512-a5c0-4e06-8c53-91eaab143762",
        "tags": []
      },
      "source": [
        "# 第6章: 単語ベクトル"
      ]
    },
    {
      "cell_type": "markdown",
      "id": "b05585fe-de49-4474-b2f9-57888e067319",
      "metadata": {
        "id": "b05585fe-de49-4474-b2f9-57888e067319"
      },
      "source": [
        "単語の意味を実ベクトルで表現する単語ベクトル（単語埋め込み）に関して、以下の処理を行うプログラムを作成せよ。"
      ]
    },
    {
      "cell_type": "code",
      "source": [
        "!pip install --upgrade gensim numpy scipy"
      ],
      "metadata": {
        "id": "JBqO5ndp7Awx",
        "outputId": "09cee8ed-4158-45dc-9010-d697ccd2d256",
        "colab": {
          "base_uri": "https://localhost:8080/"
        }
      },
      "id": "JBqO5ndp7Awx",
      "execution_count": 1,
      "outputs": [
        {
          "output_type": "stream",
          "name": "stdout",
          "text": [
            "Requirement already satisfied: gensim in /usr/local/lib/python3.11/dist-packages (4.3.3)\n",
            "Requirement already satisfied: numpy in /usr/local/lib/python3.11/dist-packages (1.26.4)\n",
            "Collecting numpy\n",
            "  Using cached numpy-2.2.5-cp311-cp311-manylinux_2_17_x86_64.manylinux2014_x86_64.whl.metadata (62 kB)\n",
            "Requirement already satisfied: scipy in /usr/local/lib/python3.11/dist-packages (1.13.1)\n",
            "Collecting scipy\n",
            "  Using cached scipy-1.15.3-cp311-cp311-manylinux_2_17_x86_64.manylinux2014_x86_64.whl.metadata (61 kB)\n",
            "Requirement already satisfied: smart-open>=1.8.1 in /usr/local/lib/python3.11/dist-packages (from gensim) (7.1.0)\n",
            "Requirement already satisfied: wrapt in /usr/local/lib/python3.11/dist-packages (from smart-open>=1.8.1->gensim) (1.17.2)\n"
          ]
        }
      ]
    },
    {
      "cell_type": "code",
      "source": [
        "!pip install gdown"
      ],
      "metadata": {
        "id": "qq2rLLe39WfH",
        "outputId": "121c71e0-c0aa-4f4f-e95e-cb3d440f2c79",
        "colab": {
          "base_uri": "https://localhost:8080/"
        }
      },
      "id": "qq2rLLe39WfH",
      "execution_count": 2,
      "outputs": [
        {
          "output_type": "stream",
          "name": "stdout",
          "text": [
            "Requirement already satisfied: gdown in /usr/local/lib/python3.11/dist-packages (5.2.0)\n",
            "Requirement already satisfied: beautifulsoup4 in /usr/local/lib/python3.11/dist-packages (from gdown) (4.13.4)\n",
            "Requirement already satisfied: filelock in /usr/local/lib/python3.11/dist-packages (from gdown) (3.18.0)\n",
            "Requirement already satisfied: requests[socks] in /usr/local/lib/python3.11/dist-packages (from gdown) (2.32.3)\n",
            "Requirement already satisfied: tqdm in /usr/local/lib/python3.11/dist-packages (from gdown) (4.67.1)\n",
            "Requirement already satisfied: soupsieve>1.2 in /usr/local/lib/python3.11/dist-packages (from beautifulsoup4->gdown) (2.7)\n",
            "Requirement already satisfied: typing-extensions>=4.0.0 in /usr/local/lib/python3.11/dist-packages (from beautifulsoup4->gdown) (4.13.2)\n",
            "Requirement already satisfied: charset-normalizer<4,>=2 in /usr/local/lib/python3.11/dist-packages (from requests[socks]->gdown) (3.4.1)\n",
            "Requirement already satisfied: idna<4,>=2.5 in /usr/local/lib/python3.11/dist-packages (from requests[socks]->gdown) (3.10)\n",
            "Requirement already satisfied: urllib3<3,>=1.21.1 in /usr/local/lib/python3.11/dist-packages (from requests[socks]->gdown) (2.4.0)\n",
            "Requirement already satisfied: certifi>=2017.4.17 in /usr/local/lib/python3.11/dist-packages (from requests[socks]->gdown) (2025.4.26)\n",
            "Requirement already satisfied: PySocks!=1.5.7,>=1.5.6 in /usr/local/lib/python3.11/dist-packages (from requests[socks]->gdown) (1.7.1)\n"
          ]
        }
      ]
    },
    {
      "cell_type": "code",
      "source": [
        "!gdown 0B7XkCwpI5KDYNlNUTTlSS21pQmM"
      ],
      "metadata": {
        "id": "iALm14dj9ecV",
        "outputId": "2606cf29-7dd8-4d21-cba4-552db03e8b03",
        "colab": {
          "base_uri": "https://localhost:8080/"
        }
      },
      "id": "iALm14dj9ecV",
      "execution_count": 3,
      "outputs": [
        {
          "output_type": "stream",
          "name": "stdout",
          "text": [
            "Downloading...\n",
            "From (original): https://drive.google.com/uc?id=0B7XkCwpI5KDYNlNUTTlSS21pQmM\n",
            "From (redirected): https://drive.google.com/uc?id=0B7XkCwpI5KDYNlNUTTlSS21pQmM&confirm=t&uuid=4e1be5b8-fa1d-454d-a602-a82c887e3e14\n",
            "To: /content/GoogleNews-vectors-negative300.bin.gz\n",
            "100% 1.65G/1.65G [00:10<00:00, 159MB/s]\n"
          ]
        }
      ]
    },
    {
      "cell_type": "code",
      "source": [
        "!gunzip /content/GoogleNews-vectors-negative300.bin.gz"
      ],
      "metadata": {
        "id": "1zlldHIa942Q"
      },
      "id": "1zlldHIa942Q",
      "execution_count": 6,
      "outputs": []
    },
    {
      "cell_type": "markdown",
      "id": "c0afdc8e-57f5-4388-a914-1150d846d5da",
      "metadata": {
        "id": "c0afdc8e-57f5-4388-a914-1150d846d5da"
      },
      "source": [
        "## 50. 単語ベクトルの読み込みと表示\n",
        "\n",
        "Google Newsデータセット（約1,000億単語）での[学習済み単語ベクトル](https://drive.google.com/file/d/0B7XkCwpI5KDYNlNUTTlSS21pQmM/edit?usp=sharing)（300万単語・フレーズ、300次元）をダウンロードし、\"United States\"の単語ベクトルを表示せよ。ただし、\"United States\"は内部的には\"United_States\"と表現されていることに注意せよ。"
      ]
    },
    {
      "cell_type": "code",
      "source": [
        "from gensim.models import KeyedVectors\n",
        "\n",
        "model = KeyedVectors.load_word2vec_format(\n",
        "    '/content/GoogleNews-vectors-negative300.bin', binary=True\n",
        ")\n",
        "united_states = model['United_States']\n",
        "print(united_states)\n"
      ],
      "metadata": {
        "collapsed": true,
        "id": "TeRfLgLM8vDh",
        "outputId": "845b510c-cce5-497b-a1dd-719f70fcd571",
        "colab": {
          "base_uri": "https://localhost:8080/"
        }
      },
      "id": "TeRfLgLM8vDh",
      "execution_count": 5,
      "outputs": [
        {
          "output_type": "stream",
          "name": "stdout",
          "text": [
            "[-3.61328125e-02 -4.83398438e-02  2.35351562e-01  1.74804688e-01\n",
            " -1.46484375e-01 -7.42187500e-02 -1.01562500e-01 -7.71484375e-02\n",
            "  1.09375000e-01 -5.71289062e-02 -1.48437500e-01 -6.00585938e-02\n",
            "  1.74804688e-01 -7.71484375e-02  2.58789062e-02 -7.66601562e-02\n",
            " -3.80859375e-02  1.35742188e-01  3.75976562e-02 -4.19921875e-02\n",
            " -3.56445312e-02  5.34667969e-02  3.68118286e-04 -1.66992188e-01\n",
            " -1.17187500e-01  1.41601562e-01 -1.69921875e-01 -6.49414062e-02\n",
            " -1.66992188e-01  1.00585938e-01  1.15722656e-01 -2.18750000e-01\n",
            " -9.86328125e-02 -2.56347656e-02  1.23046875e-01 -3.54003906e-02\n",
            " -1.58203125e-01 -1.60156250e-01  2.94189453e-02  8.15429688e-02\n",
            "  6.88476562e-02  1.87500000e-01  6.49414062e-02  1.15234375e-01\n",
            " -2.27050781e-02  3.32031250e-01 -3.27148438e-02  1.77734375e-01\n",
            " -2.08007812e-01  4.54101562e-02 -1.23901367e-02  1.19628906e-01\n",
            "  7.44628906e-03 -9.03320312e-03  1.14257812e-01  1.69921875e-01\n",
            " -2.38281250e-01 -2.79541016e-02 -1.21093750e-01  2.47802734e-02\n",
            "  7.71484375e-02 -2.81982422e-02 -4.71191406e-02  1.78222656e-02\n",
            " -1.23046875e-01 -5.32226562e-02  2.68554688e-02 -3.11279297e-02\n",
            " -5.59082031e-02 -5.00488281e-02 -3.73535156e-02  1.25976562e-01\n",
            "  5.61523438e-02  1.51367188e-01  4.29687500e-02 -2.08007812e-01\n",
            " -4.78515625e-02  2.78320312e-02  1.81640625e-01  2.20703125e-01\n",
            " -3.61328125e-02 -8.39843750e-02 -3.69548798e-05 -9.52148438e-02\n",
            " -1.25000000e-01 -1.95312500e-01 -1.50390625e-01 -4.15039062e-02\n",
            "  1.31835938e-01  1.17675781e-01  1.91650391e-02  5.51757812e-02\n",
            " -9.42382812e-02 -1.08886719e-01  7.32421875e-02 -1.15234375e-01\n",
            "  8.93554688e-02 -1.40625000e-01  1.45507812e-01  4.49218750e-02\n",
            " -1.10473633e-02 -1.62353516e-02  4.05883789e-03  3.75976562e-02\n",
            " -6.98242188e-02 -5.46875000e-02  2.17285156e-02 -9.47265625e-02\n",
            "  4.24804688e-02  1.81884766e-02 -1.73339844e-02  4.63867188e-02\n",
            " -1.42578125e-01  1.99218750e-01  1.10839844e-01  2.58789062e-02\n",
            " -7.08007812e-02 -5.54199219e-02  3.45703125e-01  1.61132812e-01\n",
            " -2.44140625e-01 -2.59765625e-01 -9.71679688e-02  8.00781250e-02\n",
            " -8.78906250e-02 -7.22656250e-02  1.42578125e-01 -8.54492188e-02\n",
            " -3.18359375e-01  8.30078125e-02  6.34765625e-02  1.64062500e-01\n",
            " -1.92382812e-01 -1.17675781e-01 -5.41992188e-02 -1.56250000e-01\n",
            " -1.21582031e-01 -4.95605469e-02  1.20117188e-01 -3.83300781e-02\n",
            "  5.51757812e-02 -8.97216797e-03  4.32128906e-02  6.93359375e-02\n",
            "  8.93554688e-02  2.53906250e-01  1.65039062e-01  1.64062500e-01\n",
            " -1.41601562e-01  4.58984375e-02  1.97265625e-01 -8.98437500e-02\n",
            "  3.90625000e-02 -1.51367188e-01 -8.60595703e-03 -1.17675781e-01\n",
            " -1.97265625e-01 -1.12792969e-01  1.29882812e-01  1.96289062e-01\n",
            "  1.56402588e-03  3.93066406e-02  2.17773438e-01 -1.43554688e-01\n",
            "  6.03027344e-02 -1.35742188e-01  1.16210938e-01 -1.59912109e-02\n",
            "  2.79296875e-01  1.46484375e-01 -1.19628906e-01  1.76757812e-01\n",
            "  1.28906250e-01 -1.49414062e-01  6.93359375e-02 -1.72851562e-01\n",
            "  9.22851562e-02  1.33056641e-02 -2.00195312e-01 -9.76562500e-02\n",
            " -1.65039062e-01 -2.46093750e-01 -2.35595703e-02 -2.11914062e-01\n",
            "  1.84570312e-01 -1.85546875e-02  2.16796875e-01  5.05371094e-02\n",
            "  2.02636719e-02  4.25781250e-01  1.28906250e-01 -2.77099609e-02\n",
            "  1.29882812e-01 -1.15722656e-01 -2.05078125e-02  1.49414062e-01\n",
            "  7.81250000e-03 -2.05078125e-01 -8.05664062e-02 -2.67578125e-01\n",
            " -2.29492188e-02 -8.20312500e-02  8.64257812e-02  7.61718750e-02\n",
            " -3.66210938e-02  5.22460938e-02 -1.22070312e-01 -1.44042969e-02\n",
            " -2.69531250e-01  8.44726562e-02 -2.52685547e-02 -2.96630859e-02\n",
            " -1.68945312e-01  1.93359375e-01 -1.08398438e-01  1.94091797e-02\n",
            " -1.80664062e-01  1.93359375e-01 -7.08007812e-02  5.85937500e-02\n",
            " -1.01562500e-01 -1.31835938e-01  7.51953125e-02 -7.66601562e-02\n",
            "  3.37219238e-03 -8.59375000e-02  1.25000000e-01  2.92968750e-02\n",
            "  1.70898438e-01 -9.37500000e-02 -1.09375000e-01 -2.50244141e-02\n",
            "  2.11914062e-01 -4.44335938e-02  6.12792969e-02  2.62451172e-02\n",
            " -1.77734375e-01  1.23046875e-01 -7.42187500e-02 -1.67968750e-01\n",
            " -1.08886719e-01 -9.04083252e-04 -7.37304688e-02  5.49316406e-02\n",
            "  6.03027344e-02  8.39843750e-02  9.17968750e-02 -1.32812500e-01\n",
            "  1.22070312e-01 -8.78906250e-03  1.19140625e-01 -1.94335938e-01\n",
            " -6.64062500e-02 -2.07031250e-01  7.37304688e-02  8.93554688e-02\n",
            "  1.81884766e-02 -1.20605469e-01 -2.61230469e-02  2.67333984e-02\n",
            "  7.76367188e-02 -8.30078125e-02  6.78710938e-02 -3.54003906e-02\n",
            "  3.10546875e-01 -2.42919922e-02 -1.41601562e-01 -2.08007812e-01\n",
            " -4.57763672e-03 -6.54296875e-02 -4.95605469e-02  2.22656250e-01\n",
            "  1.53320312e-01 -1.38671875e-01 -5.24902344e-02  4.24804688e-02\n",
            " -2.38281250e-01  1.56250000e-01  5.83648682e-04 -1.20605469e-01\n",
            " -9.22851562e-02 -4.44335938e-02  3.61328125e-02 -1.86767578e-02\n",
            " -8.25195312e-02 -8.25195312e-02 -4.05273438e-02  1.19018555e-02\n",
            "  1.69921875e-01 -2.80761719e-02  3.03649902e-03  9.32617188e-02\n",
            " -8.49609375e-02  1.57470703e-02  7.03125000e-02  1.62353516e-02\n",
            " -2.27050781e-02  3.51562500e-02  2.47070312e-01 -2.67333984e-02]\n"
          ]
        }
      ]
    },
    {
      "cell_type": "markdown",
      "id": "c4e3bb10-c37f-4395-9397-ac71e36bf4ed",
      "metadata": {
        "id": "c4e3bb10-c37f-4395-9397-ac71e36bf4ed"
      },
      "source": [
        "## 51. 単語の類似度\n",
        "\n",
        "\"United States\"と\"U.S.\"のコサイン類似度を計算せよ。"
      ]
    },
    {
      "cell_type": "code",
      "source": [
        "import numpy as np\n",
        "us = model['U.S.']\n",
        "\n",
        "dot_product = np.dot(united_states, us)\n",
        "norm_united_states = np.linalg.norm(united_states)\n",
        "norm_us = np.linalg.norm(us)\n",
        "\n",
        "cosine_similarity = dot_product / (norm_united_states * norm_us)\n",
        "print(cosine_similarity)"
      ],
      "metadata": {
        "id": "wmV7uujlAz-x",
        "outputId": "368e5a0f-aef9-4394-eadd-986cbde8a57b",
        "colab": {
          "base_uri": "https://localhost:8080/"
        }
      },
      "id": "wmV7uujlAz-x",
      "execution_count": 8,
      "outputs": [
        {
          "output_type": "stream",
          "name": "stdout",
          "text": [
            "0.7310775\n"
          ]
        }
      ]
    },
    {
      "cell_type": "markdown",
      "id": "36314a02-d3d8-4121-b310-e800b2d1ce3e",
      "metadata": {
        "id": "36314a02-d3d8-4121-b310-e800b2d1ce3e"
      },
      "source": [
        "## 52. 類似度の高い単語10件\n",
        "\n",
        "\"United States\"とコサイン類似度が高い10語と、その類似度を出力せよ。"
      ]
    },
    {
      "cell_type": "code",
      "source": [
        "similar_words = model.most_similar('United_States', topn=10)\n",
        "print('United Statesとコサイン類似度が高いトップ10の単語')\n",
        "for word, similarity in similar_words:\n",
        "    print(f'{word}: {similarity: .4f}')"
      ],
      "metadata": {
        "id": "JwMjIFreCDpk",
        "outputId": "7fffb22e-c540-41f0-fde9-de126d4edd74",
        "colab": {
          "base_uri": "https://localhost:8080/"
        }
      },
      "id": "JwMjIFreCDpk",
      "execution_count": 9,
      "outputs": [
        {
          "output_type": "stream",
          "name": "stdout",
          "text": [
            "United Statesとコサイン類似度が高いトップ10の単語\n",
            "Unites_States:  0.7877\n",
            "Untied_States:  0.7541\n",
            "United_Sates:  0.7401\n",
            "U.S.:  0.7311\n",
            "theUnited_States:  0.6404\n",
            "America:  0.6178\n",
            "UnitedStates:  0.6167\n",
            "Europe:  0.6133\n",
            "countries:  0.6045\n",
            "Canada:  0.6019\n"
          ]
        }
      ]
    },
    {
      "cell_type": "markdown",
      "id": "6de3ff5c-5285-4e96-b8d7-4f995635d146",
      "metadata": {
        "id": "6de3ff5c-5285-4e96-b8d7-4f995635d146"
      },
      "source": [
        "## 53. 加法構成性によるアナロジー\n",
        "\n",
        "\"Spain\"の単語ベクトルから\"Madrid\"のベクトルを引き、\"Athens\"のベクトルを足したベクトルを計算し、そのベクトルと類似度の高い10語とその類似度を出力せよ。"
      ]
    },
    {
      "cell_type": "code",
      "source": [
        "# spain = model['Spain']\n",
        "# madrid = model['Madrid']\n",
        "# athens = model['Athens']\n",
        "\n",
        "# vector = spain - madrid + athens\n",
        "\n",
        "# similar_words = model.most_similar(positive=[vector], topn=10)\n",
        "# positiveに入れたものを1位に来ないようにするために結果が変わる可能性がある\n",
        "similar_words = model.most_similar(positive=['Spain', 'Athens'], negative=['Madrid'], topn=10)\n",
        "print('Spain - Madrid + Athensとコサイン類似度が高いトップ10の単語')\n",
        "for word, similarity in similar_words:\n",
        "    print(f'{word}: {similarity: .4f}')"
      ],
      "metadata": {
        "id": "4EJy64ZJEF0i",
        "outputId": "71e6f18c-476c-47fd-8332-e6bbc9316fa5",
        "colab": {
          "base_uri": "https://localhost:8080/"
        }
      },
      "id": "4EJy64ZJEF0i",
      "execution_count": 12,
      "outputs": [
        {
          "output_type": "stream",
          "name": "stdout",
          "text": [
            "Spain - Madrid + Athensとコサイン類似度が高いトップ10の単語\n",
            "Greece:  0.6898\n",
            "Aristeidis_Grigoriadis:  0.5607\n",
            "Ioannis_Drymonakos:  0.5553\n",
            "Greeks:  0.5451\n",
            "Ioannis_Christou:  0.5401\n",
            "Hrysopiyi_Devetzi:  0.5248\n",
            "Heraklio:  0.5208\n",
            "Athens_Greece:  0.5169\n",
            "Lithuania:  0.5167\n",
            "Iraklion:  0.5147\n"
          ]
        }
      ]
    },
    {
      "cell_type": "markdown",
      "id": "d5db38ad-b7f4-40b2-a068-0dea071d23e7",
      "metadata": {
        "id": "d5db38ad-b7f4-40b2-a068-0dea071d23e7"
      },
      "source": [
        "## 54. アナロジーデータでの実験\n",
        "\n",
        "[単語アナロジーの評価データ](http://download.tensorflow.org/data/questions-words.txt)をダウンロードし、国と首都に関する事例（`: capital-common-countries`セクション）に対して、vec(2列目の単語) - vec(1列目の単語) + vec(3列目の単語)を計算し、そのベクトルと類似度が最も高い単語と、その類似度を求めよ。求めた単語と類似度は、各事例と一緒に記録せよ。"
      ]
    },
    {
      "cell_type": "code",
      "source": [
        "!wget http://download.tensorflow.org/data/questions-words.txt"
      ],
      "metadata": {
        "id": "sot4oigZJ6sg",
        "outputId": "7639b6e3-1005-4779-cd2a-52fc94b9867a",
        "colab": {
          "base_uri": "https://localhost:8080/"
        }
      },
      "id": "sot4oigZJ6sg",
      "execution_count": 13,
      "outputs": [
        {
          "output_type": "stream",
          "name": "stdout",
          "text": [
            "--2025-05-11 02:23:53--  http://download.tensorflow.org/data/questions-words.txt\n",
            "Resolving download.tensorflow.org (download.tensorflow.org)... 74.125.142.207, 142.251.188.207, 192.178.163.207, ...\n",
            "Connecting to download.tensorflow.org (download.tensorflow.org)|74.125.142.207|:80... connected.\n",
            "HTTP request sent, awaiting response... 200 OK\n",
            "Length: 603955 (590K) [text/plain]\n",
            "Saving to: ‘questions-words.txt’\n",
            "\n",
            "questions-words.txt 100%[===================>] 589.80K  --.-KB/s    in 0.002s  \n",
            "\n",
            "2025-05-11 02:23:54 (236 MB/s) - ‘questions-words.txt’ saved [603955/603955]\n",
            "\n"
          ]
        }
      ]
    },
    {
      "cell_type": "code",
      "source": [
        "import pandas as pd\n",
        "from tqdm import tqdm\n",
        "import re\n",
        "\n",
        "def calc_sim(row):\n",
        "    global model\n",
        "    return pd.Series(\n",
        "        list(\n",
        "            model.most_similar(positive=[row['word2'], row['word3']], negative=[row['word1']])[0]\n",
        "        )\n",
        "    )\n",
        "\n",
        "def generate_analogy_predictions_from_section(section_to_process, file_path):\n",
        "    tqdm.pandas()\n",
        "\n",
        "    capital_common_countries_data = []\n",
        "    in_section = False\n",
        "    with open(file_path, 'r') as f:\n",
        "        for line in f:\n",
        "            line = line.strip()\n",
        "            if line == section_to_process:\n",
        "                in_section = True\n",
        "                continue\n",
        "            elif line.startswith(':'):\n",
        "                if in_section:\n",
        "                    break\n",
        "                in_section = False\n",
        "                continue\n",
        "\n",
        "            if in_section and line:\n",
        "                parts = line.split(' ')\n",
        "                if len(parts) == 4:\n",
        "                    capital_common_countries_data.append(parts)\n",
        "\n",
        "\n",
        "\n",
        "    df = pd.DataFrame(capital_common_countries_data, columns=[\"word1\", \"word2\", \"word3\", \"word4\"])\n",
        "    df.dropna(inplace=True)\n",
        "\n",
        "    df[[\"most_similary_word\", \"cosine_similarity\"]] = df.progress_apply(calc_sim, axis=1)\n",
        "\n",
        "    base_filename = section_to_process.replace(\":\", \"\").strip()\n",
        "    safe_filename_part = re.sub(r'[^\\w-]', '_', base_filename)\n",
        "    output_filename = f\"analogy_results_{safe_filename_part}.txt\"\n",
        "    output_file_path = f\"/content/{output_filename}\"\n",
        "\n",
        "    df.to_csv(output_file_path, sep=\" \", index=False, header=None)\n",
        "\n"
      ],
      "metadata": {
        "id": "wnRbwftMKAu8"
      },
      "id": "wnRbwftMKAu8",
      "execution_count": 42,
      "outputs": []
    },
    {
      "cell_type": "code",
      "source": [
        "file_path = '/content/questions-words.txt'\n",
        "section_to_process = ': capital-common-countries'\n",
        "\n",
        "generate_analogy_predictions_from_section(section_to_process=section_to_process, file_path=file_path)"
      ],
      "metadata": {
        "id": "0jCUT-63CjCa",
        "outputId": "0868eee6-dc3e-4946-ecbe-fc542ce5fc06",
        "colab": {
          "base_uri": "https://localhost:8080/"
        }
      },
      "id": "0jCUT-63CjCa",
      "execution_count": 43,
      "outputs": [
        {
          "output_type": "stream",
          "name": "stderr",
          "text": [
            "100%|██████████| 506/506 [03:38<00:00,  2.31it/s]\n"
          ]
        }
      ]
    },
    {
      "cell_type": "markdown",
      "id": "dbc1fcff-5555-44da-8b4c-12d97ede10e8",
      "metadata": {
        "id": "dbc1fcff-5555-44da-8b4c-12d97ede10e8"
      },
      "source": [
        "## 55. アナロジータスクでの正解率\n",
        "\n",
        "54の実行結果を用い、意味的アナロジー（semantic analogy）と文法的アナロジー（syntactic analogy）の正解率を測定せよ。"
      ]
    },
    {
      "cell_type": "code",
      "source": [
        "def calc_accuracy(file_path):\n",
        "    df = pd.read_csv(file_path, sep=' ', header=None)\n",
        "    number_of_correct = (df[3] == df[4]).sum()\n",
        "    print(f'{number_of_correct}/{len(df)}')\n",
        "    print(f'accuracy: {number_of_correct / len(df)}')"
      ],
      "metadata": {
        "id": "12NOg7Dw9Vax"
      },
      "id": "12NOg7Dw9Vax",
      "execution_count": 44,
      "outputs": []
    },
    {
      "cell_type": "code",
      "source": [
        "file_path = '/content/analogy_results_capital-common-countries.txt'\n",
        "calc_accuracy(file_path)"
      ],
      "metadata": {
        "id": "uj6RBS3BB7E2",
        "outputId": "70035648-7600-4837-d0be-6e2da92a746a",
        "colab": {
          "base_uri": "https://localhost:8080/"
        }
      },
      "id": "uj6RBS3BB7E2",
      "execution_count": 45,
      "outputs": [
        {
          "output_type": "stream",
          "name": "stdout",
          "text": [
            "421/506\n",
            "accuracy: 0.8320158102766798\n"
          ]
        }
      ]
    },
    {
      "cell_type": "code",
      "source": [
        "file_path = '/content/questions-words.txt'\n",
        "section_to_process = ': gram1-adjective-to-adverb'\n",
        "\n",
        "generate_analogy_predictions_from_section(section_to_process=section_to_process, file_path=file_path)"
      ],
      "metadata": {
        "id": "374z4mm1B_lv",
        "outputId": "006149f0-29ea-455f-dbba-cc7795a62e3c",
        "colab": {
          "base_uri": "https://localhost:8080/"
        }
      },
      "id": "374z4mm1B_lv",
      "execution_count": 46,
      "outputs": [
        {
          "output_type": "stream",
          "name": "stderr",
          "text": [
            "100%|██████████| 992/992 [07:18<00:00,  2.26it/s]\n"
          ]
        }
      ]
    },
    {
      "cell_type": "code",
      "source": [
        "file_path = '/content/analogy_results_gram1-adjective-to-adverb.txt'\n",
        "calc_accuracy(file_path)"
      ],
      "metadata": {
        "id": "mM5mdCAzEUOE",
        "outputId": "d57db052-7498-439f-d804-e9cc7d45edd1",
        "colab": {
          "base_uri": "https://localhost:8080/"
        }
      },
      "id": "mM5mdCAzEUOE",
      "execution_count": 47,
      "outputs": [
        {
          "output_type": "stream",
          "name": "stdout",
          "text": [
            "283/992\n",
            "accuracy: 0.2852822580645161\n"
          ]
        }
      ]
    },
    {
      "cell_type": "markdown",
      "id": "b62a9077-45e9-4cf2-8546-5e5b226b4cb6",
      "metadata": {
        "id": "b62a9077-45e9-4cf2-8546-5e5b226b4cb6"
      },
      "source": [
        "## 56. WordSimilarity-353での評価\n",
        "\n",
        "[The WordSimilarity-353 Test Collection](http://www.gabrilovich.com/resources/data/wordsim353/wordsim353.html)の評価データをダウンロードし、単語ベクトルにより計算される類似度のランキングと、人間の類似度判定のランキングの間のスピアマン相関係数を計算せよ。"
      ]
    },
    {
      "cell_type": "code",
      "source": [
        "!wget https://www.gabrilovich.com/resources/data/wordsim353/wordsim353.zip\n",
        "!unzip /content/wordsim353.zip"
      ],
      "metadata": {
        "id": "rzMxGLZKF5Yy",
        "outputId": "f2e025f5-cbe2-4270-9c5a-16ff796190b1",
        "colab": {
          "base_uri": "https://localhost:8080/"
        }
      },
      "id": "rzMxGLZKF5Yy",
      "execution_count": 48,
      "outputs": [
        {
          "output_type": "stream",
          "name": "stdout",
          "text": [
            "--2025-05-11 06:50:26--  https://www.gabrilovich.com/resources/data/wordsim353/wordsim353.zip\n",
            "Resolving www.gabrilovich.com (www.gabrilovich.com)... 173.236.137.139\n",
            "Connecting to www.gabrilovich.com (www.gabrilovich.com)|173.236.137.139|:443... connected.\n",
            "HTTP request sent, awaiting response... 200 OK\n",
            "Length: 23257 (23K) [application/zip]\n",
            "Saving to: ‘wordsim353.zip’\n",
            "\n",
            "wordsim353.zip      100%[===================>]  22.71K  --.-KB/s    in 0.06s   \n",
            "\n",
            "2025-05-11 06:50:27 (366 KB/s) - ‘wordsim353.zip’ saved [23257/23257]\n",
            "\n",
            "Archive:  /content/wordsim353.zip\n",
            "  inflating: combined.csv            \n",
            "  inflating: set1.csv                \n",
            "  inflating: set2.csv                \n",
            "  inflating: combined.tab            \n",
            "  inflating: set1.tab                \n",
            "  inflating: set2.tab                \n",
            "  inflating: instructions.txt        \n"
          ]
        }
      ]
    },
    {
      "cell_type": "code",
      "source": [
        "from scipy.stats import spearmanr\n",
        "import csv\n",
        "\n",
        "dataset_path = '/content/combined.csv'\n",
        "human_scores = []\n",
        "model_scores = []\n",
        "\n",
        "with open(dataset_path, 'r') as f:\n",
        "    reader = csv.reader(f)\n",
        "    header = next(reader, None)\n",
        "\n",
        "    for i, row in enumerate(reader):\n",
        "        word1 = row[0].strip()\n",
        "        word2 = row[1].strip()\n",
        "\n",
        "        human_score = row[2]\n",
        "\n",
        "        similarity = model.similarity(word1, word2)\n",
        "        human_scores.append(human_score)\n",
        "        model_scores.append(similarity)\n",
        "\n",
        "spearman_corr, p_value = spearmanr(human_scores, model_scores)\n",
        "\n",
        "print(f\"スピアマン相関係数: {spearman_corr:.4f}\")\n",
        "print(f\"p値: {p_value:.4f}\")"
      ],
      "metadata": {
        "id": "y6PbpxDFGDaS",
        "outputId": "ef6f59b6-4bfd-42e9-e79f-86a57bc349d3",
        "colab": {
          "base_uri": "https://localhost:8080/"
        }
      },
      "id": "y6PbpxDFGDaS",
      "execution_count": 49,
      "outputs": [
        {
          "output_type": "stream",
          "name": "stdout",
          "text": [
            "スピアマン相関係数: 0.6850\n",
            "p値: 0.0000\n"
          ]
        }
      ]
    },
    {
      "cell_type": "markdown",
      "id": "4e45f26a-5896-453b-a11b-a97ef3b3900c",
      "metadata": {
        "id": "4e45f26a-5896-453b-a11b-a97ef3b3900c"
      },
      "source": [
        "## 57. k-meansクラスタリング\n",
        "\n",
        "国名に関する単語ベクトルを抽出し、k-meansクラスタリングをクラスタ数k=5として実行せよ。"
      ]
    },
    {
      "cell_type": "code",
      "source": [
        "from sklearn.cluster import KMeans\n",
        "from sklearn.decomposition import PCA\n",
        "import matplotlib.pyplot as plt\n",
        "import random\n",
        "\n",
        "country_names_full = [\n",
        "    \"Japan\", \"China\", \"Korea\", \"India\", \"Thailand\", \"Vietnam\", \"Indonesia\", \"Malaysia\", \"Philippines\", \"Singapore\",\n",
        "    \"USA\", \"Canada\", \"Mexico\", \"Brazil\", \"Argentina\", \"Chile\", \"Colombia\", \"Peru\",\n",
        "    \"UK\", \"Germany\", \"France\", \"Italy\", \"Spain\", \"Portugal\", \"Netherlands\", \"Belgium\", \"Sweden\", \"Norway\", \"Finland\", \"Denmark\",\n",
        "    \"Russia\", \"Poland\", \"Hungary\", \"Czech\", \"Greece\",\n",
        "    \"Egypt\", \"Nigeria\", \"Kenya\", \"Ethiopia\", \"Ghana\", \"Sudan\", \"Algeria\", \"Morocco\",\n",
        "    \"Australia\", \"Zealand\"\n",
        "]\n",
        "\n",
        "country_names_in_vocab = []\n",
        "country_vectors = []\n",
        "oov_countries = []\n",
        "\n",
        "for country in country_names_full:\n",
        "    try:\n",
        "        vector = model[country]\n",
        "        country_names_in_vocab.append(country)\n",
        "        country_vectors.append(vector)\n",
        "    except KeyError:\n",
        "        oov_countries.append(country)\n",
        "\n",
        "country_vectors_np = np.array(country_vectors)\n",
        "\n",
        "X = country_vectors_np\n",
        "\n",
        "k = 5\n",
        "\n",
        "kmeans = KMeans(n_clusters=k, random_state=42, n_init='auto')\n",
        "kmeans.fit(X)\n",
        "labels = kmeans.labels_\n",
        "\n",
        "clusters = {}\n",
        "\n",
        "for i, country_name in enumerate(country_names_in_vocab):\n",
        "    cluster_id = labels[i]\n",
        "    if cluster_id not in clusters:\n",
        "        clusters[cluster_id] = []\n",
        "    clusters[cluster_id].append(country_name)\n",
        "\n",
        "for cluster_id, countries_in_cluster in sorted(clusters.items()):\n",
        "    print(f\"クラスタ {cluster_id}: {', '.join(countries_in_cluster)}\")\n",
        "\n",
        "pca = PCA(n_components=2, random_state=42)\n",
        "X_pca = pca.fit_transform(X)\n",
        "\n",
        "plt.figure(figsize=(12, 8))\n",
        "scatter = plt.scatter(X_pca[:, 0], X_pca[:, 1], c=labels, cmap='viridis', alpha=0.7, edgecolors='k')\n",
        "\n",
        "num_labels_to_show = min(25, len(country_names_in_vocab))\n",
        "indices_to_label = random.sample(range(len(country_names_in_vocab)), num_labels_to_show)\n",
        "\n",
        "for i in indices_to_label:\n",
        "    plt.text(X_pca[i, 0] + 0.01, X_pca[i, 1] + 0.01, country_names_in_vocab[i], fontsize=9)\n",
        "\n",
        "plt.title(f'Country Clusters (k={k}, PCA visualization)')\n",
        "plt.xlabel('PCA Component 1')\n",
        "plt.ylabel('PCA Component 2')\n",
        "plt.grid(True)"
      ],
      "metadata": {
        "id": "XO0Ab7xBKdTR",
        "outputId": "2385e6cd-dc8d-4ecf-f7cd-42d0afb86c61",
        "colab": {
          "base_uri": "https://localhost:8080/",
          "height": 825
        }
      },
      "id": "XO0Ab7xBKdTR",
      "execution_count": 53,
      "outputs": [
        {
          "output_type": "stream",
          "name": "stdout",
          "text": [
            "クラスタ 0: Mexico, Brazil, Argentina, Chile, Colombia, Peru\n",
            "クラスタ 1: USA, UK, Germany, France, Italy, Spain, Portugal, Netherlands, Belgium, Sweden, Norway, Finland, Denmark, Poland, Hungary, Czech, Greece, Zealand\n",
            "クラスタ 2: Korea\n",
            "クラスタ 3: Egypt, Nigeria, Kenya, Ethiopia, Ghana, Sudan, Algeria, Morocco\n",
            "クラスタ 4: Japan, China, India, Thailand, Vietnam, Indonesia, Malaysia, Philippines, Singapore, Canada, Russia, Australia\n"
          ]
        },
        {
          "output_type": "display_data",
          "data": {
            "text/plain": [
              "<Figure size 1200x800 with 1 Axes>"
            ],
            "image/png": "[encoded data removed]"
          },
          "metadata": {}
        }
      ]
    },
    {
      "cell_type": "markdown",
      "id": "c63cb16e-7cbe-49e8-8f66-d703600128fa",
      "metadata": {
        "id": "c63cb16e-7cbe-49e8-8f66-d703600128fa"
      },
      "source": [
        "## 58. Ward法によるクラスタリング\n",
        "\n",
        "国名に関する単語ベクトルに対し、Ward法による階層型クラスタリングを実行せよ。さらに、クラスタリング結果をデンドログラムとして可視化せよ。"
      ]
    },
    {
      "cell_type": "markdown",
      "id": "epeDPNhuFoEY",
      "metadata": {
        "id": "epeDPNhuFoEY"
      },
      "source": [
        "## 59. t-SNEによる可視化\n",
        "\n",
        "ベクトル空間上の国名に関する単語ベクトルをt-SNEで可視化せよ。"
      ]
    }
  ],
  "metadata": {
    "colab": {
      "provenance": []
    },
    "kernelspec": {
      "display_name": "Python 3 (ipykernel)",
      "language": "python",
      "name": "python3"
    },
    "language_info": {
      "codemirror_mode": {
        "name": "ipython",
        "version": 3
      },
      "file_extension": ".py",
      "mimetype": "text/x-python",
      "name": "python",
      "nbconvert_exporter": "python",
      "pygments_lexer": "ipython3",
      "version": "3.12.3"
    }
  },
  "nbformat": 4,
  "nbformat_minor": 5
}