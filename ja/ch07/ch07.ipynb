{
  "cells": [
    {
      "cell_type": "markdown",
      "metadata": {
        "editable": true,
        "id": "X5YgWh7ldCR4",
        "tags": []
      },
      "source": [
        "# 第7章: 機械学習\n",
        "\n",
        "本章では、[Stanford Sentiment Treebank (SST)](https://nlp.stanford.edu/sentiment/) データセットを用い、評判分析器（ポジネガ分類器）を構築する。ここでは処理を簡略化するため、[General Language Understanding Evaluation (GLUE)](https://gluebenchmark.com/) ベンチマークで配布されているSSTデータセットを用いる。\n"
      ]
    },
    {
      "cell_type": "markdown",
      "metadata": {
        "id": "xaAFO9l2fE19"
      },
      "source": [
        "## 60. データの入手・整形\n",
        "\n",
        "GLUEのウェブサイトから[SST-2](https://dl.fbaipublicfiles.com/glue/data/SST-2.zip)データセットを取得せよ。学習データ（`train.tsv`）と検証データ（`dev.tsv`）のぞれぞれについて、ポジティブ (1) とネガティブ (0) の事例数をカウントせよ。"
      ]
    },
    {
      "cell_type": "code",
      "source": [
        "!wget https://dl.fbaipublicfiles.com/glue/data/SST-2.zip"
      ],
      "metadata": {
        "colab": {
          "base_uri": "https://localhost:8080/"
        },
        "id": "sAm3pyKAFDbj",
        "outputId": "87bc0a68-8d1c-4be3-9003-fe23c11c6507"
      },
      "execution_count": 3,
      "outputs": [
        {
          "output_type": "stream",
          "name": "stdout",
          "text": [
            "--2025-05-15 05:48:42--  https://dl.fbaipublicfiles.com/glue/data/SST-2.zip\n",
            "Resolving dl.fbaipublicfiles.com (dl.fbaipublicfiles.com)... 3.171.22.13, 3.171.22.118, 3.171.22.33, ...\n",
            "Connecting to dl.fbaipublicfiles.com (dl.fbaipublicfiles.com)|3.171.22.13|:443... connected.\n",
            "HTTP request sent, awaiting response... 200 OK\n",
            "Length: 7439277 (7.1M) [application/zip]\n",
            "Saving to: ‘SST-2.zip.1’\n",
            "\n",
            "SST-2.zip.1         100%[===================>]   7.09M  41.3MB/s    in 0.2s    \n",
            "\n",
            "2025-05-15 05:48:42 (41.3 MB/s) - ‘SST-2.zip.1’ saved [7439277/7439277]\n",
            "\n"
          ]
        }
      ]
    },
    {
      "cell_type": "code",
      "source": [
        "!unzip /content/SST-2.zip"
      ],
      "metadata": {
        "id": "3pT8hWkhGLqO",
        "colab": {
          "base_uri": "https://localhost:8080/"
        },
        "outputId": "82644d74-70c6-4680-b1d1-9d9df748a5a5"
      },
      "execution_count": 4,
      "outputs": [
        {
          "output_type": "stream",
          "name": "stdout",
          "text": [
            "Archive:  /content/SST-2.zip\n",
            "replace SST-2/dev.tsv? [y]es, [n]o, [A]ll, [N]one, [r]ename: y\n",
            "  inflating: SST-2/dev.tsv           \n",
            "replace SST-2/original/README.txt? [y]es, [n]o, [A]ll, [N]one, [r]ename: y\n",
            "  inflating: SST-2/original/README.txt  \n",
            "replace SST-2/original/SOStr.txt? [y]es, [n]o, [A]ll, [N]one, [r]ename: y\n",
            "  inflating: SST-2/original/SOStr.txt  \n",
            "replace SST-2/original/STree.txt? [y]es, [n]o, [A]ll, [N]one, [r]ename: y\n",
            "  inflating: SST-2/original/STree.txt  \n",
            "replace SST-2/original/datasetSentences.txt? [y]es, [n]o, [A]ll, [N]one, [r]ename: y\n",
            "  inflating: SST-2/original/datasetSentences.txt  \n",
            "replace SST-2/original/datasetSplit.txt? [y]es, [n]o, [A]ll, [N]one, [r]ename: y\n",
            "  inflating: SST-2/original/datasetSplit.txt  \n",
            "replace SST-2/original/dictionary.txt? [y]es, [n]o, [A]ll, [N]one, [r]ename: y\n",
            "  inflating: SST-2/original/dictionary.txt  \n",
            "replace SST-2/original/original_rt_snippets.txt? [y]es, [n]o, [A]ll, [N]one, [r]ename: y\n",
            "  inflating: SST-2/original/original_rt_snippets.txt  \n",
            "replace SST-2/original/sentiment_labels.txt? [y]es, [n]o, [A]ll, [N]one, [r]ename: y\n",
            "  inflating: SST-2/original/sentiment_labels.txt  \n",
            "replace SST-2/test.tsv? [y]es, [n]o, [A]ll, [N]one, [r]ename: A\n",
            "  inflating: SST-2/test.tsv          \n",
            "  inflating: SST-2/train.tsv         \n"
          ]
        }
      ]
    },
    {
      "cell_type": "code",
      "source": [
        "import pandas as pd\n",
        "\n",
        "train_data_path = '/content/SST-2/train.tsv'\n",
        "dev_data_path = '/content/SST-2/dev.tsv'\n",
        "\n",
        "df_train = pd.read_csv(train_data_path, sep='\\t')\n",
        "df_dev = pd.read_csv(dev_data_path, sep='\\t')\n",
        "\n",
        "train_pos_counts = df_train.label.value_counts().get(1)\n",
        "print('train positive: ', train_pos_counts)\n",
        "train_neg_counts = df_train.label.value_counts().get(0)\n",
        "print('train negative: ', train_neg_counts)\n",
        "\n",
        "dev_pos_counts = df_dev.label.value_counts().get(1)\n",
        "print('dev positive: ', dev_pos_counts)\n",
        "dev_neg_counts = df_dev.label.value_counts().get(0)\n",
        "print('dev negative: ', dev_neg_counts)"
      ],
      "metadata": {
        "colab": {
          "base_uri": "https://localhost:8080/"
        },
        "id": "AGNZA4K4GPeY",
        "outputId": "04e19e84-4dde-4477-a8a9-0aa09ff109bb"
      },
      "execution_count": 5,
      "outputs": [
        {
          "output_type": "stream",
          "name": "stdout",
          "text": [
            "train positive:  37569\n",
            "train negative:  29780\n",
            "dev positive:  444\n",
            "dev negative:  428\n"
          ]
        }
      ]
    },
    {
      "cell_type": "markdown",
      "metadata": {
        "id": "0EY71AIPgmJF"
      },
      "source": [
        "## 61. 特徴ベクトル\n",
        "\n",
        "Bag of Words (BoW) に基づき、学習データ（`train.tsv`）および検証データ（`dev.tsv`）のテキストを特徴ベクトルに変換したい。ここで、ある事例のテキストの特徴ベクトルは、テキスト中に含まれる単語（スペース区切りのトークン）の出現頻度で構成する。例えば、\"too loud , too goofy\"というテキストに対応する特徴ベクトルは、以下のような辞書オブジェクトで表現される。\n",
        "\n",
        "```python\n",
        "{'too': 2, 'loud': 1, ',': 1, 'goofy': 1}\n",
        "```\n",
        "\n",
        "各事例はテキスト、特徴ベクトル、ラベルを格納した辞書オブジェクトでまとめておく。例えば、先ほどの\"too loud , too goofy\"に対してラベル\"0\"（ネガティブ）が付与された事例は、以下のオブジェクトで表現される。\n",
        "\n",
        "```python\n",
        "{'text': 'too loud , too goofy', 'label': '0', 'feature': {'too': 2, 'loud': 1, ',': 1, 'goofy': 1}}\n",
        "```\n",
        "\n",
        "学習データと検証データの各事例を上記のような辞書オブジェクトに変換したうえで、学習データと検証データのそれぞれを、辞書オブジェクトのリストとして表現せよ。さらに、学習データの最初の事例について、正しく特徴ベクトルに変換できたか、目視で確認せよ。"
      ]
    },
    {
      "cell_type": "code",
      "source": [
        "from collections import Counter\n",
        "\n",
        "def convert_text2feature(row):\n",
        "    text = str(row.iloc[0])\n",
        "\n",
        "    tokens = text.split(' ')\n",
        "\n",
        "    return dict(Counter(tokens))\n",
        "\n",
        "df_train['feature'] = df_train.apply(convert_text2feature, axis=1)\n",
        "df_dev['feature'] = df_dev.apply(convert_text2feature, axis=1)\n",
        "\n",
        "df_train.head(5)"
      ],
      "metadata": {
        "colab": {
          "base_uri": "https://localhost:8080/",
          "height": 206
        },
        "id": "YtsUOyHtKvip",
        "outputId": "437d3532-e7b8-42d5-8e26-60592a1b9ad5"
      },
      "execution_count": 6,
      "outputs": [
        {
          "output_type": "execute_result",
          "data": {
            "text/plain": [
              "                                            sentence  label  \\\n",
              "0       hide new secretions from the parental units       0   \n",
              "1               contains no wit , only labored gags       0   \n",
              "2  that loves its characters and communicates som...      1   \n",
              "3  remains utterly satisfied to remain the same t...      0   \n",
              "4  on the worst revenge-of-the-nerds clichés the ...      0   \n",
              "\n",
              "                                             feature  \n",
              "0  {'hide': 1, 'new': 1, 'secretions': 1, 'from':...  \n",
              "1  {'contains': 1, 'no': 1, 'wit': 1, ',': 1, 'on...  \n",
              "2  {'that': 1, 'loves': 1, 'its': 1, 'characters'...  \n",
              "3  {'remains': 1, 'utterly': 1, 'satisfied': 1, '...  \n",
              "4  {'on': 1, 'the': 2, 'worst': 1, 'revenge-of-th...  "
            ],
            "text/html": [
              "\n",
              "  <div id=\"df-3b39ce54-f7ed-4162-8d46-962656d3fa99\" class=\"colab-df-container\">\n",
              "    <div>\n",
              "<style scoped>\n",
              "    .dataframe tbody tr th:only-of-type {\n",
              "        vertical-align: middle;\n",
              "    }\n",
              "\n",
              "    .dataframe tbody tr th {\n",
              "        vertical-align: top;\n",
              "    }\n",
              "\n",
              "    .dataframe thead th {\n",
              "        text-align: right;\n",
              "    }\n",
              "</style>\n",
              "<table border=\"1\" class=\"dataframe\">\n",
              "  <thead>\n",
              "    <tr style=\"text-align: right;\">\n",
              "      <th></th>\n",
              "      <th>sentence</th>\n",
              "      <th>label</th>\n",
              "      <th>feature</th>\n",
              "    </tr>\n",
              "  </thead>\n",
              "  <tbody>\n",
              "    <tr>\n",
              "      <th>0</th>\n",
              "      <td>hide new secretions from the parental units</td>\n",
              "      <td>0</td>\n",
              "      <td>{'hide': 1, 'new': 1, 'secretions': 1, 'from':...</td>\n",
              "    </tr>\n",
              "    <tr>\n",
              "      <th>1</th>\n",
              "      <td>contains no wit , only labored gags</td>\n",
              "      <td>0</td>\n",
              "      <td>{'contains': 1, 'no': 1, 'wit': 1, ',': 1, 'on...</td>\n",
              "    </tr>\n",
              "    <tr>\n",
              "      <th>2</th>\n",
              "      <td>that loves its characters and communicates som...</td>\n",
              "      <td>1</td>\n",
              "      <td>{'that': 1, 'loves': 1, 'its': 1, 'characters'...</td>\n",
              "    </tr>\n",
              "    <tr>\n",
              "      <th>3</th>\n",
              "      <td>remains utterly satisfied to remain the same t...</td>\n",
              "      <td>0</td>\n",
              "      <td>{'remains': 1, 'utterly': 1, 'satisfied': 1, '...</td>\n",
              "    </tr>\n",
              "    <tr>\n",
              "      <th>4</th>\n",
              "      <td>on the worst revenge-of-the-nerds clichés the ...</td>\n",
              "      <td>0</td>\n",
              "      <td>{'on': 1, 'the': 2, 'worst': 1, 'revenge-of-th...</td>\n",
              "    </tr>\n",
              "  </tbody>\n",
              "</table>\n",
              "</div>\n",
              "    <div class=\"colab-df-buttons\">\n",
              "      \n",
              "  <div class=\"colab-df-container\">\n",
              "    <button class=\"colab-df-convert\" onclick=\"convertToInteractive('df-3b39ce54-f7ed-4162-8d46-962656d3fa99')\"\n",
              "            title=\"Convert this dataframe to an interactive table.\"\n",
              "            style=\"display:none;\">\n",
              "      \n",
              "  <svg xmlns=\"http://www.w3.org/2000/svg\" height=\"24px\" viewBox=\"0 -960 960 960\">\n",
              "    <path d=\"M120-120v-720h720v720H120Zm60-500h600v-160H180v160Zm220 220h160v-160H400v160Zm0 220h160v-160H400v160ZM180-400h160v-160H180v160Zm440 0h160v-160H620v160ZM180-180h160v-160H180v160Zm440 0h160v-160H620v160Z\"/>\n",
              "  </svg>\n",
              "    </button>\n",
              "    \n",
              "  <style>\n",
              "    .colab-df-container {\n",
              "      display:flex;\n",
              "      gap: 12px;\n",
              "    }\n",
              "\n",
              "    .colab-df-convert {\n",
              "      background-color: #E8F0FE;\n",
              "      border: none;\n",
              "      border-radius: 50%;\n",
              "      cursor: pointer;\n",
              "      display: none;\n",
              "      fill: #1967D2;\n",
              "      height: 32px;\n",
              "      padding: 0 0 0 0;\n",
              "      width: 32px;\n",
              "    }\n",
              "\n",
              "    .colab-df-convert:hover {\n",
              "      background-color: #E2EBFA;\n",
              "      box-shadow: 0px 1px 2px rgba(60, 64, 67, 0.3), 0px 1px 3px 1px rgba(60, 64, 67, 0.15);\n",
              "      fill: #174EA6;\n",
              "    }\n",
              "\n",
              "    .colab-df-buttons div {\n",
              "      margin-bottom: 4px;\n",
              "    }\n",
              "\n",
              "    [theme=dark] .colab-df-convert {\n",
              "      background-color: #3B4455;\n",
              "      fill: #D2E3FC;\n",
              "    }\n",
              "\n",
              "    [theme=dark] .colab-df-convert:hover {\n",
              "      background-color: #434B5C;\n",
              "      box-shadow: 0px 1px 3px 1px rgba(0, 0, 0, 0.15);\n",
              "      filter: drop-shadow(0px 1px 2px rgba(0, 0, 0, 0.3));\n",
              "      fill: #FFFFFF;\n",
              "    }\n",
              "  </style>\n",
              "\n",
              "    <script>\n",
              "      const buttonEl =\n",
              "        document.querySelector('#df-3b39ce54-f7ed-4162-8d46-962656d3fa99 button.colab-df-convert');\n",
              "      buttonEl.style.display =\n",
              "        google.colab.kernel.accessAllowed ? 'block' : 'none';\n",
              "\n",
              "      async function convertToInteractive(key) {\n",
              "        const element = document.querySelector('#df-3b39ce54-f7ed-4162-8d46-962656d3fa99');\n",
              "        const dataTable =\n",
              "          await google.colab.kernel.invokeFunction('convertToInteractive',\n",
              "                                                    [key], {});\n",
              "        if (!dataTable) return;\n",
              "\n",
              "        const docLinkHtml = 'Like what you see? Visit the ' +\n",
              "          '<a target=\"_blank\" href=https://colab.research.google.com/notebooks/data_table.ipynb>data table notebook</a>'\n",
              "          + ' to learn more about interactive tables.';\n",
              "        element.innerHTML = '';\n",
              "        dataTable['output_type'] = 'display_data';\n",
              "        await google.colab.output.renderOutput(dataTable, element);\n",
              "        const docLink = document.createElement('div');\n",
              "        docLink.innerHTML = docLinkHtml;\n",
              "        element.appendChild(docLink);\n",
              "      }\n",
              "    </script>\n",
              "  </div>\n",
              "  \n",
              "    </div>\n",
              "  </div>\n",
              "  "
            ]
          },
          "metadata": {},
          "execution_count": 6
        }
      ]
    },
    {
      "cell_type": "markdown",
      "metadata": {
        "id": "_i40n9yZnCsv"
      },
      "source": [
        "## 62. 学習\n",
        "\n",
        "61で構築した学習データの特徴ベクトルを用いて、ロジスティック回帰モデルを学習せよ。"
      ]
    },
    {
      "cell_type": "code",
      "source": [
        "import numpy as np\n",
        "\n",
        "def np_log(x):\n",
        "    return np.log(np.clip(a=x, a_min=1e-10, a_max=1e+10))\n",
        "\n",
        "def sigmoid(x):\n",
        "    return np.exp(np.minimum(0, x)) / (1 + np.exp(-np.abs(x)))\n",
        "\n",
        "def cross_entropy_loss(y, t):\n",
        "    return  - (t * np_log(y) + (1 - t) * np_log(1 - y)).mean()\n",
        "\n",
        "class LogisticRegression():\n",
        "    def __init__(self, in_dim, out_dim):\n",
        "        self.W = np.random.uniform(low=-0.05, high=0.05, size=(in_dim, out_dim)).astype('float32')\n",
        "        self.b = np.zeros(shape=(out_dim,)).astype('float32')\n",
        "\n",
        "    def __call__(self, x):\n",
        "        return sigmoid(np.matmul(x, self.W) + self.b)\n",
        "\n",
        "    def compute_loss(self, y, t):\n",
        "        return cross_entropy_loss(y, t)\n",
        "\n",
        "    def update_parameter(self, x, delta, batch_size, eps):\n",
        "        dW = np.matmul(x.T, delta) / batch_size\n",
        "        db = np.matmul(np.ones(shape=(batch_size)), delta) / batch_size\n",
        "        self.W -= eps * dW\n",
        "        self.b -= eps * db\n",
        "\n",
        "def train(model, x, t, eps=0.01):\n",
        "    batch_size = x.shape[0]\n",
        "\n",
        "    y = model(x)\n",
        "\n",
        "    loss = model.compute_loss(y, t)\n",
        "\n",
        "    delta = y - t\n",
        "\n",
        "    model.update_parameter(x, delta, batch_size, eps)\n",
        "\n",
        "    threshold = 0.5\n",
        "    pred_labels = (y > threshold).astype(int)\n",
        "\n",
        "    true_labels = t\n",
        "\n",
        "    accuracy = np.mean(pred_labels == true_labels)\n",
        "\n",
        "    return loss, accuracy\n",
        "\n",
        "def valid(model, x, t):\n",
        "    y = model(x)\n",
        "    loss = model.compute_loss(y, t)\n",
        "\n",
        "    threshold = 0.5\n",
        "    pred_labels = (y > threshold).astype(int)\n",
        "\n",
        "    true_labels = t\n",
        "\n",
        "    accuracy = np.mean(pred_labels == true_labels)\n",
        "\n",
        "    return loss, y, accuracy\n"
      ],
      "metadata": {
        "id": "Sdk-chTE-oWn"
      },
      "execution_count": 5,
      "outputs": []
    },
    {
      "cell_type": "code",
      "source": [
        "from sklearn.feature_extraction import DictVectorizer\n",
        "\n",
        "vectorizer = DictVectorizer(sparse=True)\n",
        "\n",
        "X_train = vectorizer.fit_transform(df_train['feature'])\n",
        "X_dev = vectorizer.transform(df_dev['feature'])\n",
        "\n",
        "X_train = X_train.toarray()\n",
        "X_dev = X_dev.toarray()\n",
        "print(X_train.shape)\n",
        "print(X_dev.shape)"
      ],
      "metadata": {
        "colab": {
          "base_uri": "https://localhost:8080/"
        },
        "id": "hXz4EFX1HjFH",
        "outputId": "69fcee97-a5e9-4e2f-8322-1e56b5533442"
      },
      "execution_count": 7,
      "outputs": [
        {
          "output_type": "stream",
          "name": "stdout",
          "text": [
            "(67349, 14817)\n",
            "(872, 14817)\n"
          ]
        }
      ]
    },
    {
      "cell_type": "code",
      "source": [
        "def extract_labels(df):\n",
        "    return df['label'].astype(int).values.reshape(-1, 1)\n",
        "\n",
        "t_train = extract_labels(df_train)\n",
        "t_dev = extract_labels(df_dev)\n",
        "\n",
        "print(t_train.shape)\n",
        "print(t_dev.shape)"
      ],
      "metadata": {
        "colab": {
          "base_uri": "https://localhost:8080/"
        },
        "id": "rju9_HhELZ8G",
        "outputId": "b4f1787b-eeba-4827-9b58-b35b9acd2db2"
      },
      "execution_count": 8,
      "outputs": [
        {
          "output_type": "stream",
          "name": "stdout",
          "text": [
            "(67349, 1)\n",
            "(872, 1)\n"
          ]
        }
      ]
    },
    {
      "cell_type": "code",
      "source": [
        "epoch = 2000\n",
        "\n",
        "\n",
        "model = LogisticRegression(in_dim=X_train.shape[1], out_dim=t_train.shape[1])\n",
        "\n",
        "for i in range(1, epoch+1):\n",
        "    train_loss, train_accuracy = train(model, X_train, t_train, eps=0.1)\n",
        "\n",
        "    valid_loss, y, valid_accuracy = valid(model, X_dev, t_dev)\n",
        "\n",
        "    if i % 10 == 0:\n",
        "        print(f'epoch: {i} train accuracy: {train_accuracy:.8f} valid accuracy: {valid_accuracy:.8f}')\n",
        "\n"
      ],
      "metadata": {
        "colab": {
          "base_uri": "https://localhost:8080/"
        },
        "id": "lIaVRwuHJ_Bb",
        "outputId": "7f80cfd1-c1d2-4bd6-e781-091f4b00e388"
      },
      "execution_count": 16,
      "outputs": [
        {
          "output_type": "stream",
          "name": "stdout",
          "text": [
            "epoch: 10 train accuracy: 0.55861260 valid accuracy: 0.50229358\n",
            "epoch: 20 train accuracy: 0.56263642 valid accuracy: 0.51261468\n",
            "epoch: 30 train accuracy: 0.56217613 valid accuracy: 0.51376147\n",
            "epoch: 40 train accuracy: 0.56216128 valid accuracy: 0.51490826\n",
            "epoch: 50 train accuracy: 0.56336397 valid accuracy: 0.51834862\n",
            "epoch: 60 train accuracy: 0.56475968 valid accuracy: 0.52064220\n",
            "epoch: 70 train accuracy: 0.56646721 valid accuracy: 0.52522936\n",
            "epoch: 80 train accuracy: 0.56948136 valid accuracy: 0.53211009\n",
            "epoch: 90 train accuracy: 0.57320821 valid accuracy: 0.53440367\n",
            "epoch: 100 train accuracy: 0.57610358 valid accuracy: 0.54013761\n",
            "epoch: 110 train accuracy: 0.57870199 valid accuracy: 0.55045872\n",
            "epoch: 120 train accuracy: 0.58101828 valid accuracy: 0.55275229\n",
            "epoch: 130 train accuracy: 0.58401758 valid accuracy: 0.56192661\n",
            "epoch: 140 train accuracy: 0.58674962 valid accuracy: 0.56536697\n",
            "epoch: 150 train accuracy: 0.58918469 valid accuracy: 0.57110092\n",
            "epoch: 160 train accuracy: 0.59130796 valid accuracy: 0.57110092\n",
            "epoch: 170 train accuracy: 0.59366880 valid accuracy: 0.58256881\n",
            "epoch: 180 train accuracy: 0.59574752 valid accuracy: 0.58715596\n",
            "epoch: 190 train accuracy: 0.59788564 valid accuracy: 0.59747706\n",
            "epoch: 200 train accuracy: 0.59977134 valid accuracy: 0.60091743\n",
            "epoch: 210 train accuracy: 0.60147886 valid accuracy: 0.60321101\n",
            "epoch: 220 train accuracy: 0.60253307 valid accuracy: 0.60321101\n",
            "epoch: 230 train accuracy: 0.60429999 valid accuracy: 0.61009174\n",
            "epoch: 240 train accuracy: 0.60566601 valid accuracy: 0.61353211\n",
            "epoch: 250 train accuracy: 0.60700233 valid accuracy: 0.61467890\n",
            "epoch: 260 train accuracy: 0.60821987 valid accuracy: 0.62041284\n",
            "epoch: 270 train accuracy: 0.60973437 valid accuracy: 0.62155963\n",
            "epoch: 280 train accuracy: 0.61150128 valid accuracy: 0.62385321\n",
            "epoch: 290 train accuracy: 0.61276337 valid accuracy: 0.62270642\n",
            "epoch: 300 train accuracy: 0.61399575 valid accuracy: 0.62614679\n",
            "epoch: 310 train accuracy: 0.61548056 valid accuracy: 0.63073394\n",
            "epoch: 320 train accuracy: 0.61662385 valid accuracy: 0.63188073\n",
            "epoch: 330 train accuracy: 0.61837592 valid accuracy: 0.63646789\n",
            "epoch: 340 train accuracy: 0.61956376 valid accuracy: 0.63761468\n",
            "epoch: 350 train accuracy: 0.62064767 valid accuracy: 0.63876147\n",
            "epoch: 360 train accuracy: 0.62168703 valid accuracy: 0.64105505\n",
            "epoch: 370 train accuracy: 0.62308275 valid accuracy: 0.64220183\n",
            "epoch: 380 train accuracy: 0.62407757 valid accuracy: 0.64220183\n",
            "epoch: 390 train accuracy: 0.62507238 valid accuracy: 0.64220183\n",
            "epoch: 400 train accuracy: 0.62627507 valid accuracy: 0.64449541\n",
            "epoch: 410 train accuracy: 0.62701748 valid accuracy: 0.64564220\n",
            "epoch: 420 train accuracy: 0.62813108 valid accuracy: 0.64678899\n",
            "epoch: 430 train accuracy: 0.62909620 valid accuracy: 0.64678899\n",
            "epoch: 440 train accuracy: 0.63006132 valid accuracy: 0.64678899\n",
            "epoch: 450 train accuracy: 0.63083342 valid accuracy: 0.64908257\n",
            "epoch: 460 train accuracy: 0.63200641 valid accuracy: 0.64908257\n",
            "epoch: 470 train accuracy: 0.63301608 valid accuracy: 0.64908257\n",
            "epoch: 480 train accuracy: 0.63412968 valid accuracy: 0.65022936\n",
            "epoch: 490 train accuracy: 0.63499087 valid accuracy: 0.65596330\n",
            "epoch: 500 train accuracy: 0.63591145 valid accuracy: 0.65596330\n",
            "epoch: 510 train accuracy: 0.63669839 valid accuracy: 0.65711009\n",
            "epoch: 520 train accuracy: 0.63742595 valid accuracy: 0.65825688\n",
            "epoch: 530 train accuracy: 0.63833168 valid accuracy: 0.65825688\n",
            "epoch: 540 train accuracy: 0.63911862 valid accuracy: 0.66055046\n",
            "epoch: 550 train accuracy: 0.63981648 valid accuracy: 0.66055046\n",
            "epoch: 560 train accuracy: 0.64054403 valid accuracy: 0.66055046\n",
            "epoch: 570 train accuracy: 0.64136067 valid accuracy: 0.65940367\n",
            "epoch: 580 train accuracy: 0.64225156 valid accuracy: 0.66399083\n",
            "epoch: 590 train accuracy: 0.64287517 valid accuracy: 0.66628440\n",
            "epoch: 600 train accuracy: 0.64342455 valid accuracy: 0.66743119\n",
            "epoch: 610 train accuracy: 0.64413726 valid accuracy: 0.67087156\n",
            "epoch: 620 train accuracy: 0.64467178 valid accuracy: 0.66972477\n",
            "epoch: 630 train accuracy: 0.64560721 valid accuracy: 0.66972477\n",
            "epoch: 640 train accuracy: 0.64646840 valid accuracy: 0.67087156\n",
            "epoch: 650 train accuracy: 0.64709201 valid accuracy: 0.67087156\n",
            "epoch: 660 train accuracy: 0.64777502 valid accuracy: 0.67201835\n",
            "epoch: 670 train accuracy: 0.64853227 valid accuracy: 0.67316514\n",
            "epoch: 680 train accuracy: 0.64920043 valid accuracy: 0.67431193\n",
            "epoch: 690 train accuracy: 0.64977951 valid accuracy: 0.67431193\n",
            "epoch: 700 train accuracy: 0.65047736 valid accuracy: 0.67431193\n",
            "epoch: 710 train accuracy: 0.65104159 valid accuracy: 0.67545872\n",
            "epoch: 720 train accuracy: 0.65163551 valid accuracy: 0.67545872\n",
            "epoch: 730 train accuracy: 0.65214034 valid accuracy: 0.67431193\n",
            "epoch: 740 train accuracy: 0.65270457 valid accuracy: 0.67431193\n",
            "epoch: 750 train accuracy: 0.65337273 valid accuracy: 0.67660550\n",
            "epoch: 760 train accuracy: 0.65387756 valid accuracy: 0.67775229\n",
            "epoch: 770 train accuracy: 0.65433785 valid accuracy: 0.67775229\n",
            "epoch: 780 train accuracy: 0.65494662 valid accuracy: 0.68004587\n",
            "epoch: 790 train accuracy: 0.65548115 valid accuracy: 0.68004587\n",
            "epoch: 800 train accuracy: 0.65601568 valid accuracy: 0.68004587\n",
            "epoch: 810 train accuracy: 0.65643142 valid accuracy: 0.68004587\n",
            "epoch: 820 train accuracy: 0.65675808 valid accuracy: 0.68004587\n",
            "epoch: 830 train accuracy: 0.65709959 valid accuracy: 0.68119266\n",
            "epoch: 840 train accuracy: 0.65758957 valid accuracy: 0.68233945\n",
            "epoch: 850 train accuracy: 0.65800532 valid accuracy: 0.68233945\n",
            "epoch: 860 train accuracy: 0.65842106 valid accuracy: 0.68233945\n",
            "epoch: 870 train accuracy: 0.65905953 valid accuracy: 0.68348624\n",
            "epoch: 880 train accuracy: 0.65922285 valid accuracy: 0.68348624\n",
            "epoch: 890 train accuracy: 0.65969799 valid accuracy: 0.68463303\n",
            "epoch: 900 train accuracy: 0.66023252 valid accuracy: 0.68577982\n",
            "epoch: 910 train accuracy: 0.66072251 valid accuracy: 0.68577982\n",
            "epoch: 920 train accuracy: 0.66116795 valid accuracy: 0.68577982\n",
            "epoch: 930 train accuracy: 0.66161339 valid accuracy: 0.68692661\n",
            "epoch: 940 train accuracy: 0.66220731 valid accuracy: 0.68692661\n",
            "epoch: 950 train accuracy: 0.66271214 valid accuracy: 0.68807339\n",
            "epoch: 960 train accuracy: 0.66342485 valid accuracy: 0.68922018\n",
            "epoch: 970 train accuracy: 0.66391483 valid accuracy: 0.68922018\n",
            "epoch: 980 train accuracy: 0.66437512 valid accuracy: 0.68922018\n",
            "epoch: 990 train accuracy: 0.66485026 valid accuracy: 0.68922018\n",
            "epoch: 1000 train accuracy: 0.66538479 valid accuracy: 0.68922018\n",
            "epoch: 1010 train accuracy: 0.66578568 valid accuracy: 0.69151376\n",
            "epoch: 1020 train accuracy: 0.66624597 valid accuracy: 0.69266055\n",
            "epoch: 1030 train accuracy: 0.66642415 valid accuracy: 0.69380734\n",
            "epoch: 1040 train accuracy: 0.66706261 valid accuracy: 0.69380734\n",
            "epoch: 1050 train accuracy: 0.66744866 valid accuracy: 0.69380734\n",
            "epoch: 1060 train accuracy: 0.66783471 valid accuracy: 0.69495413\n",
            "epoch: 1070 train accuracy: 0.66833954 valid accuracy: 0.69495413\n",
            "epoch: 1080 train accuracy: 0.66857711 valid accuracy: 0.69610092\n",
            "epoch: 1090 train accuracy: 0.66896316 valid accuracy: 0.69724771\n",
            "epoch: 1100 train accuracy: 0.66930467 valid accuracy: 0.69724771\n",
            "epoch: 1110 train accuracy: 0.66964617 valid accuracy: 0.69724771\n",
            "epoch: 1120 train accuracy: 0.67004707 valid accuracy: 0.69724771\n",
            "epoch: 1130 train accuracy: 0.67035888 valid accuracy: 0.69495413\n",
            "epoch: 1140 train accuracy: 0.67068553 valid accuracy: 0.69610092\n",
            "epoch: 1150 train accuracy: 0.67110128 valid accuracy: 0.69610092\n",
            "epoch: 1160 train accuracy: 0.67141309 valid accuracy: 0.69610092\n",
            "epoch: 1170 train accuracy: 0.67176944 valid accuracy: 0.69839450\n",
            "epoch: 1180 train accuracy: 0.67217034 valid accuracy: 0.69954128\n",
            "epoch: 1190 train accuracy: 0.67252669 valid accuracy: 0.69954128\n",
            "epoch: 1200 train accuracy: 0.67285335 valid accuracy: 0.69954128\n",
            "epoch: 1210 train accuracy: 0.67306122 valid accuracy: 0.69954128\n",
            "epoch: 1220 train accuracy: 0.67364029 valid accuracy: 0.70183486\n",
            "epoch: 1230 train accuracy: 0.67396695 valid accuracy: 0.70183486\n",
            "epoch: 1240 train accuracy: 0.67426391 valid accuracy: 0.70183486\n",
            "epoch: 1250 train accuracy: 0.67460541 valid accuracy: 0.70183486\n",
            "epoch: 1260 train accuracy: 0.67479844 valid accuracy: 0.70298165\n",
            "epoch: 1270 train accuracy: 0.67502116 valid accuracy: 0.70412844\n",
            "epoch: 1280 train accuracy: 0.67540721 valid accuracy: 0.70412844\n",
            "epoch: 1290 train accuracy: 0.67582295 valid accuracy: 0.70527523\n",
            "epoch: 1300 train accuracy: 0.67606052 valid accuracy: 0.70642202\n",
            "epoch: 1310 train accuracy: 0.67626839 valid accuracy: 0.70527523\n",
            "epoch: 1320 train accuracy: 0.67652081 valid accuracy: 0.70527523\n",
            "epoch: 1330 train accuracy: 0.67687716 valid accuracy: 0.70412844\n",
            "epoch: 1340 train accuracy: 0.67709988 valid accuracy: 0.70298165\n",
            "epoch: 1350 train accuracy: 0.67738200 valid accuracy: 0.70298165\n",
            "epoch: 1360 train accuracy: 0.67758987 valid accuracy: 0.70298165\n",
            "epoch: 1370 train accuracy: 0.67787198 valid accuracy: 0.70298165\n",
            "epoch: 1380 train accuracy: 0.67821348 valid accuracy: 0.70412844\n",
            "epoch: 1390 train accuracy: 0.67864408 valid accuracy: 0.70412844\n",
            "epoch: 1400 train accuracy: 0.67901528 valid accuracy: 0.70527523\n",
            "epoch: 1410 train accuracy: 0.67937163 valid accuracy: 0.70642202\n",
            "epoch: 1420 train accuracy: 0.67962405 valid accuracy: 0.70756881\n",
            "epoch: 1430 train accuracy: 0.67989131 valid accuracy: 0.70756881\n",
            "epoch: 1440 train accuracy: 0.68026251 valid accuracy: 0.70642202\n",
            "epoch: 1450 train accuracy: 0.68058917 valid accuracy: 0.70871560\n",
            "epoch: 1460 train accuracy: 0.68079704 valid accuracy: 0.71215596\n",
            "epoch: 1470 train accuracy: 0.68119794 valid accuracy: 0.71215596\n",
            "epoch: 1480 train accuracy: 0.68149490 valid accuracy: 0.71215596\n",
            "epoch: 1490 train accuracy: 0.68174732 valid accuracy: 0.71215596\n",
            "epoch: 1500 train accuracy: 0.68204428 valid accuracy: 0.71330275\n",
            "epoch: 1510 train accuracy: 0.68243033 valid accuracy: 0.71215596\n",
            "epoch: 1520 train accuracy: 0.68271244 valid accuracy: 0.71215596\n",
            "epoch: 1530 train accuracy: 0.68284607 valid accuracy: 0.71215596\n",
            "epoch: 1540 train accuracy: 0.68327666 valid accuracy: 0.71330275\n",
            "epoch: 1550 train accuracy: 0.68363302 valid accuracy: 0.71330275\n",
            "epoch: 1560 train accuracy: 0.68401906 valid accuracy: 0.71215596\n",
            "epoch: 1570 train accuracy: 0.68444966 valid accuracy: 0.71215596\n",
            "epoch: 1580 train accuracy: 0.68486540 valid accuracy: 0.71215596\n",
            "epoch: 1590 train accuracy: 0.68526630 valid accuracy: 0.71215596\n",
            "epoch: 1600 train accuracy: 0.68556326 valid accuracy: 0.71330275\n",
            "epoch: 1610 train accuracy: 0.68597900 valid accuracy: 0.71330275\n",
            "epoch: 1620 train accuracy: 0.68629081 valid accuracy: 0.71444954\n",
            "epoch: 1630 train accuracy: 0.68636505 valid accuracy: 0.71559633\n",
            "epoch: 1640 train accuracy: 0.68663232 valid accuracy: 0.71559633\n",
            "epoch: 1650 train accuracy: 0.68700352 valid accuracy: 0.71674312\n",
            "epoch: 1660 train accuracy: 0.68716685 valid accuracy: 0.71444954\n",
            "epoch: 1670 train accuracy: 0.68747866 valid accuracy: 0.71444954\n",
            "epoch: 1680 train accuracy: 0.68774592 valid accuracy: 0.71444954\n",
            "epoch: 1690 train accuracy: 0.68808743 valid accuracy: 0.71444954\n",
            "epoch: 1700 train accuracy: 0.68836954 valid accuracy: 0.71444954\n",
            "epoch: 1710 train accuracy: 0.68871104 valid accuracy: 0.71559633\n",
            "epoch: 1720 train accuracy: 0.68921588 valid accuracy: 0.71444954\n",
            "epoch: 1730 train accuracy: 0.68951284 valid accuracy: 0.71444954\n",
            "epoch: 1740 train accuracy: 0.68982464 valid accuracy: 0.71444954\n",
            "epoch: 1750 train accuracy: 0.69007706 valid accuracy: 0.71444954\n",
            "epoch: 1760 train accuracy: 0.69019585 valid accuracy: 0.71559633\n",
            "epoch: 1770 train accuracy: 0.69052250 valid accuracy: 0.71559633\n",
            "epoch: 1780 train accuracy: 0.69080461 valid accuracy: 0.71674312\n",
            "epoch: 1790 train accuracy: 0.69114612 valid accuracy: 0.71674312\n",
            "epoch: 1800 train accuracy: 0.69139854 valid accuracy: 0.71674312\n",
            "epoch: 1810 train accuracy: 0.69156186 valid accuracy: 0.71674312\n",
            "epoch: 1820 train accuracy: 0.69176974 valid accuracy: 0.71674312\n",
            "epoch: 1830 train accuracy: 0.69194791 valid accuracy: 0.71788991\n",
            "epoch: 1840 train accuracy: 0.69209639 valid accuracy: 0.71788991\n",
            "epoch: 1850 train accuracy: 0.69233396 valid accuracy: 0.71788991\n",
            "epoch: 1860 train accuracy: 0.69251214 valid accuracy: 0.71788991\n",
            "epoch: 1870 train accuracy: 0.69270516 valid accuracy: 0.71788991\n",
            "epoch: 1880 train accuracy: 0.69288334 valid accuracy: 0.71788991\n",
            "epoch: 1890 train accuracy: 0.69297243 valid accuracy: 0.71788991\n",
            "epoch: 1900 train accuracy: 0.69322484 valid accuracy: 0.71903670\n",
            "epoch: 1910 train accuracy: 0.69337332 valid accuracy: 0.71903670\n",
            "epoch: 1920 train accuracy: 0.69390785 valid accuracy: 0.72018349\n",
            "epoch: 1930 train accuracy: 0.69410088 valid accuracy: 0.71903670\n",
            "epoch: 1940 train accuracy: 0.69439784 valid accuracy: 0.71903670\n",
            "epoch: 1950 train accuracy: 0.69463541 valid accuracy: 0.72018349\n",
            "epoch: 1960 train accuracy: 0.69482843 valid accuracy: 0.72018349\n",
            "epoch: 1970 train accuracy: 0.69509570 valid accuracy: 0.72018349\n",
            "epoch: 1980 train accuracy: 0.69531842 valid accuracy: 0.72133028\n",
            "epoch: 1990 train accuracy: 0.69571931 valid accuracy: 0.72133028\n",
            "epoch: 2000 train accuracy: 0.69601627 valid accuracy: 0.72133028\n"
          ]
        }
      ]
    },
    {
      "cell_type": "markdown",
      "metadata": {
        "id": "1wuvGIAonZEF"
      },
      "source": [
        "## 63. 予測\n",
        "\n",
        "学習したロジスティック回帰モデルを用い、検証データの先頭の事例のラベル（ポジネガ）を予測せよ。また、予測されたラベルが検証データで付与されていたラベルと一致しているか、確認せよ。"
      ]
    },
    {
      "cell_type": "code",
      "source": [
        "y = model(X_dev[0])\n",
        "threshold = 0.5\n",
        "pred_label = (y > threshold).astype(int).item()\n",
        "\n",
        "true_label = t_dev[0].item()\n",
        "\n",
        "print(f'predict: {pred_label} true: {true_label}')"
      ],
      "metadata": {
        "id": "T8e2pFHFauI6",
        "outputId": "7ecb6678-458e-40f3-de47-ab54bdc82c78",
        "colab": {
          "base_uri": "https://localhost:8080/"
        }
      },
      "execution_count": 17,
      "outputs": [
        {
          "output_type": "stream",
          "name": "stdout",
          "text": [
            "predict: 1 true: 1\n"
          ]
        }
      ]
    },
    {
      "cell_type": "markdown",
      "metadata": {
        "editable": true,
        "id": "ZHZht1jNoJPL",
        "tags": []
      },
      "source": [
        "## 64. 条件付き確率\n",
        "\n",
        "学習したロジスティック回帰モデルを用い、検証データの先頭の事例を各ラベル（ポジネガ）に分類するときの条件付き確率を求めよ。"
      ]
    },
    {
      "cell_type": "code",
      "source": [
        "print(f'P(pos|pos) = {y.item()}, P(neg|pos) = {1-y.item()}')"
      ],
      "metadata": {
        "id": "5q_tlgwjc0tM",
        "outputId": "d0067ff4-55da-424a-93e1-a11d374a1618",
        "colab": {
          "base_uri": "https://localhost:8080/"
        }
      },
      "execution_count": 18,
      "outputs": [
        {
          "output_type": "stream",
          "name": "stdout",
          "text": [
            "P(pos|pos) = 0.7017520210769926, P(neg|pos) = 0.29824797892300736\n"
          ]
        }
      ]
    },
    {
      "cell_type": "markdown",
      "metadata": {
        "editable": true,
        "id": "sa4FRl8kos_0",
        "tags": []
      },
      "source": [
        "## 65. テキストのポジネガの予測\n",
        "\n",
        "与えられたテキストのポジネガを予測するプログラムを実装せよ。例えば、テキストとして\"the worst movie I 've ever seen\"を与え、ロジスティック回帰モデルの予測結果を確認せよ。\n"
      ]
    },
    {
      "cell_type": "code",
      "source": [
        "text = 'the worst movie I \\'ve ever seen'\n",
        "\n",
        "tokens = text.split(' ')\n",
        "\n",
        "feature = dict(Counter(tokens))\n",
        "\n",
        "X = vectorizer.transform(feature)\n",
        "\n",
        "X = X.toarray()\n",
        "\n",
        "y = model(X)\n",
        "threshold = 0.5\n",
        "pred_label = (y > threshold).astype(int).item()\n",
        "\n",
        "print('pred label:', pred_label)"
      ],
      "metadata": {
        "colab": {
          "base_uri": "https://localhost:8080/"
        },
        "id": "-3Gt4jQqN0YZ",
        "outputId": "b3259026-1f8c-4f0a-fecd-e0fbd9fa1c9a"
      },
      "execution_count": 19,
      "outputs": [
        {
          "output_type": "stream",
          "name": "stdout",
          "text": [
            "pred label: 0\n"
          ]
        }
      ]
    },
    {
      "cell_type": "markdown",
      "metadata": {
        "editable": true,
        "id": "JpIsH36Upci_",
        "tags": []
      },
      "source": [
        "## 66. 混同行列の作成\n",
        "\n",
        "学習したロジスティック回帰モデルの検証データにおける混同行列（confusion matrix）を求めよ。"
      ]
    },
    {
      "cell_type": "code",
      "source": [
        "from sklearn.metrics import confusion_matrix\n",
        "\n",
        "y_dev = model(X_dev)\n",
        "\n",
        "pred_label_dev = (y_dev > threshold).astype(int)\n",
        "\n",
        "cm = confusion_matrix(t_dev, pred_label_dev)\n",
        "print(cm)"
      ],
      "metadata": {
        "id": "NmChNfuleUlw",
        "outputId": "bf11477e-89f0-4ce5-aba7-7334beb0b22f",
        "colab": {
          "base_uri": "https://localhost:8080/"
        }
      },
      "execution_count": 30,
      "outputs": [
        {
          "output_type": "stream",
          "name": "stdout",
          "text": [
            "[[273 155]\n",
            " [ 88 356]]\n"
          ]
        }
      ]
    },
    {
      "cell_type": "markdown",
      "metadata": {
        "editable": true,
        "id": "wVGFDz94oaqV",
        "tags": []
      },
      "source": [
        "## 67. 精度の計測\n",
        "\n",
        "学習したロジスティック回帰モデルの正解率、適合率、再現率、F1スコアを、学習データおよび検証データ上で計測せよ。"
      ]
    },
    {
      "cell_type": "code",
      "source": [
        "from sklearn.metrics import accuracy_score, precision_score, recall_score, f1_score\n",
        "\n",
        "y_train = model(X_train)\n",
        "\n",
        "pred_label_train = (y_train > threshold).astype(int)\n",
        "print('train')\n",
        "accuracy = accuracy_score(t_train, pred_label_train)\n",
        "precision = precision_score(t_train, pred_label_train)\n",
        "recall = recall_score(t_train, pred_label_train)\n",
        "f1 = f1_score(t_train, pred_label_train)\n",
        "print(f'accuracy: {accuracy} precision: {precision} recall: {recall} f1: {f1}')\n",
        "\n",
        "print('valid')\n",
        "accuracy = accuracy_score(t_dev, pred_label_dev)\n",
        "precision = precision_score(t_dev, pred_label_dev)\n",
        "recall = recall_score(t_dev, pred_label_dev)\n",
        "f1 = f1_score(t_dev, pred_label_dev)\n",
        "print(f'accuracy: {accuracy} precision: {precision} recall: {recall} f1: {f1}')"
      ],
      "metadata": {
        "id": "clvZIcWm9wCg",
        "outputId": "b1555d10-76ea-4515-b30a-df3326d15887",
        "colab": {
          "base_uri": "https://localhost:8080/"
        }
      },
      "execution_count": 31,
      "outputs": [
        {
          "output_type": "stream",
          "name": "stdout",
          "text": [
            "train\n",
            "accuracy: 0.6960459695021456 precision: 0.6669009410019132 recall: 0.9092602943916527 f1: 0.7694473538984807\n",
            "valid\n",
            "accuracy: 0.7213302752293578 precision: 0.6966731898238747 recall: 0.8018018018018018 f1: 0.7455497382198953\n"
          ]
        }
      ]
    },
    {
      "cell_type": "markdown",
      "metadata": {
        "id": "N14sd55qq-xS"
      },
      "source": [
        "## 68. 特徴量の重みの確認\n",
        "\n",
        "学習したロジスティック回帰モデルの中で、重みの高い特徴量トップ20と、重みの低い特徴量トップ20を確認せよ。"
      ]
    },
    {
      "cell_type": "code",
      "source": [
        "W_flat = model.W.flatten()\n",
        "sorted_indices = np.argsort(W_flat)\n",
        "feature_names = vectorizer.get_feature_names_out()\n",
        "\n",
        "n = 20\n",
        "print('Worst20')\n",
        "for i in sorted_indices[:20]:\n",
        "    feature_name = feature_names[i]\n",
        "    weight = W_flat[i]\n",
        "    print(f\"feature name: {feature_name:>15}, weight: {weight:.4f}\")\n",
        "\n",
        "print('Best20')\n",
        "for i in sorted_indices[-20:]:\n",
        "    feature_name = feature_names[i]\n",
        "    weight = W_flat[i]\n",
        "    print(f\"feature name: {feature_name:>15}, weight: {weight:.4f}\")"
      ],
      "metadata": {
        "id": "SLF_qUT1HfEX",
        "outputId": "a92b666d-fbf9-4862-dcda-a2416f2128fe",
        "colab": {
          "base_uri": "https://localhost:8080/"
        }
      },
      "execution_count": 48,
      "outputs": [
        {
          "output_type": "stream",
          "name": "stdout",
          "text": [
            "Worst20\n",
            "feature name:             too, weight: -0.8674\n",
            "feature name:             bad, weight: -0.8025\n",
            "feature name:             n't, weight: -0.7713\n",
            "feature name:              no, weight: -0.6946\n",
            "feature name:              or, weight: -0.5562\n",
            "feature name:            like, weight: -0.4722\n",
            "feature name:             not, weight: -0.4402\n",
            "feature name:            plot, weight: -0.4215\n",
            "feature name:            just, weight: -0.3573\n",
            "feature name:           worst, weight: -0.3505\n",
            "feature name:         nothing, weight: -0.3495\n",
            "feature name:            dull, weight: -0.3391\n",
            "feature name:         minutes, weight: -0.3333\n",
            "feature name:        dialogue, weight: -0.3116\n",
            "feature name:            flat, weight: -0.2983\n",
            "feature name:            been, weight: -0.2920\n",
            "feature name:             out, weight: -0.2685\n",
            "feature name:              by, weight: -0.2684\n",
            "feature name:              so, weight: -0.2581\n",
            "feature name:           would, weight: -0.2563\n",
            "Best20\n",
            "feature name:        powerful, weight: 0.2477\n",
            "feature name:            most, weight: 0.2482\n",
            "feature name:              an, weight: 0.2487\n",
            "feature name:           worth, weight: 0.2524\n",
            "feature name:     performance, weight: 0.2570\n",
            "feature name:            with, weight: 0.2827\n",
            "feature name:          moving, weight: 0.2834\n",
            "feature name:            well, weight: 0.2902\n",
            "feature name:            life, weight: 0.3025\n",
            "feature name:     fascinating, weight: 0.3157\n",
            "feature name:    performances, weight: 0.3255\n",
            "feature name:           great, weight: 0.3270\n",
            "feature name:            film, weight: 0.3369\n",
            "feature name:           heart, weight: 0.3542\n",
            "feature name:    entertaining, weight: 0.3718\n",
            "feature name:             fun, weight: 0.3759\n",
            "feature name:            love, weight: 0.4404\n",
            "feature name:           funny, weight: 0.4971\n",
            "feature name:            good, weight: 0.5202\n",
            "feature name:            best, weight: 0.5529\n"
          ]
        }
      ]
    },
    {
      "cell_type": "markdown",
      "metadata": {
        "id": "QiEXYV__rJYR"
      },
      "source": [
        "## 69. 正則化パラメータの変更\n",
        "\n",
        "ロジスティック回帰モデルを学習するとき、正則化の係数（ハイパーパラメータ）を調整することで、学習時の適合度合いを制御できる。正則化の係数を変化させながらロジスティック回帰モデルを学習し、検証データ上の正解率を求めよ。実験の結果は、正則化パラメータを横軸、正解率を縦軸としたグラフにまとめよ。"
      ]
    },
    {
      "cell_type": "code",
      "source": [
        "from sklearn import linear_model\n",
        "\n",
        "C_values = [0.001, 0.01, 0.1, 1, 10, 100, 1000]\n",
        "\n",
        "accuracy_scores = []\n",
        "\n",
        "t_train = t_train.ravel()\n",
        "t_dev = t_dev.ravel()\n",
        "\n",
        "for C in C_values:\n",
        "    model = linear_model.LogisticRegression(C=C, solver='liblinear', random_state=42, max_iter=1000)\n",
        "    model.fit(X_train, t_train)\n",
        "\n",
        "    accuracy = model.score(X_dev, t_dev)\n",
        "    accuracy_scores.append(accuracy)\n"
      ],
      "metadata": {
        "id": "GQAFkLtbm_Jy"
      },
      "execution_count": 15,
      "outputs": []
    },
    {
      "cell_type": "code",
      "source": [
        "import matplotlib.pyplot as plt\n",
        "# Cはラムダの逆数\n",
        "plt.figure(figsize=(10, 6))\n",
        "plt.plot(C_values, accuracy_scores, marker='o')\n",
        "plt.xscale('log')\n",
        "plt.xlabel('Regularization parameter C (log scale)')\n",
        "plt.ylabel('Accuracy on validation set')\n",
        "plt.title('Effect of Regularization Parameter C on Logistic Regressioon Accuracy')\n",
        "plt.grid(True)\n",
        "plt.show()"
      ],
      "metadata": {
        "id": "5HHhuZSVfuv4",
        "outputId": "21d25bc5-72c2-4f1d-9dd1-503673a778c5",
        "colab": {
          "base_uri": "https://localhost:8080/",
          "height": 569
        }
      },
      "execution_count": 10,
      "outputs": [
        {
          "output_type": "display_data",
          "data": {
            "text/plain": [
              "<Figure size 1000x600 with 1 Axes>"
            ],
            "image/png": "[encoded data removed]"
          },
          "metadata": {}
        }
      ]
    }
  ],
  "metadata": {
    "colab": {
      "provenance": []
    },
    "kernelspec": {
      "display_name": "Python 3 (ipykernel)",
      "language": "python",
      "name": "python3"
    },
    "language_info": {
      "codemirror_mode": {
        "name": "ipython",
        "version": 3
      },
      "file_extension": ".py",
      "mimetype": "text/x-python",
      "name": "python",
      "nbconvert_exporter": "python",
      "pygments_lexer": "ipython3",
      "version": "3.12.3"
    }
  },
  "nbformat": 4,
  "nbformat_minor": 0
}