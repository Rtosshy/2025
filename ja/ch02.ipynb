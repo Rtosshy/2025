{
  "cells": [
    {
      "cell_type": "markdown",
      "id": "38daedde-589c-4cac-bf43-2b13485898cb",
      "metadata": {
        "editable": true,
        "id": "38daedde-589c-4cac-bf43-2b13485898cb",
        "tags": []
      },
      "source": [
        "# 第2章: UNIXコマンド\n",
        "\n",
        "[popular-names.txt](/data/popular-names.txt)は、アメリカで生まれた赤ちゃんの「名前」「性別」「人数」「年」をタブ区切り形式で格納したファイルである。以下の処理を行うプログラムを作成し、[popular-names.txt](/data/popular-names.txt)を入力ファイルとして実行せよ。さらに、同様の処理をUNIXコマンドでも実行し、プログラムの実行結果を確認せよ。"
      ]
    },
    {
      "cell_type": "code",
      "source": [
        "!git clone https://github.com/Rtosshy/2025.git"
      ],
      "metadata": {
        "id": "06XBXYQtDEGD",
        "outputId": "f7243956-4ce7-4647-b043-80523e5a66cb",
        "colab": {
          "base_uri": "https://localhost:8080/"
        }
      },
      "id": "06XBXYQtDEGD",
      "execution_count": 1,
      "outputs": [
        {
          "output_type": "stream",
          "name": "stdout",
          "text": [
            "Cloning into '2025'...\n",
            "remote: Enumerating objects: 132, done.\u001b[K\n",
            "remote: Counting objects: 100% (33/33), done.\u001b[K\n",
            "remote: Compressing objects: 100% (22/22), done.\u001b[K\n",
            "remote: Total 132 (delta 20), reused 11 (delta 11), pack-reused 99 (from 1)\u001b[K\n",
            "Receiving objects: 100% (132/132), 20.69 MiB | 40.98 MiB/s, done.\n",
            "Resolving deltas: 100% (49/49), done.\n"
          ]
        }
      ]
    },
    {
      "cell_type": "code",
      "source": [
        "file_path = '/content/2025/data/popular-names.txt'"
      ],
      "metadata": {
        "id": "WqVme7EjPaRC"
      },
      "id": "WqVme7EjPaRC",
      "execution_count": 12,
      "outputs": []
    },
    {
      "cell_type": "code",
      "source": [
        "!export FILE_PATH='/content/2025/data/popular-names.txt'"
      ],
      "metadata": {
        "id": "62QyCbp3QMhv"
      },
      "id": "62QyCbp3QMhv",
      "execution_count": 13,
      "outputs": []
    },
    {
      "cell_type": "markdown",
      "id": "d0cd8b46-ec72-459e-8cd4-285ac3601172",
      "metadata": {
        "editable": true,
        "id": "d0cd8b46-ec72-459e-8cd4-285ac3601172",
        "tags": []
      },
      "source": [
        "## 10. 行数のカウント\n",
        "ファイルの行数をカウントせよ。確認にはwcコマンドを用いよ。"
      ]
    },
    {
      "cell_type": "code",
      "source": [
        "with open(file_path, 'r') as f:\n",
        "    lines = f.readlines()\n",
        "    print(len(lines))"
      ],
      "metadata": {
        "id": "85mrxmkcO7-A",
        "outputId": "93317d55-d333-456e-b029-980d297790bc",
        "colab": {
          "base_uri": "https://localhost:8080/"
        }
      },
      "id": "85mrxmkcO7-A",
      "execution_count": 14,
      "outputs": [
        {
          "output_type": "stream",
          "name": "stdout",
          "text": [
            "2780\n"
          ]
        }
      ]
    },
    {
      "cell_type": "code",
      "source": [
        "!wc -l $FILE_PATH"
      ],
      "metadata": {
        "id": "f3pYusF4Pt1F",
        "outputId": "6f5fcb5a-25df-4a92-d653-22a7ed123199",
        "colab": {
          "base_uri": "https://localhost:8080/"
        }
      },
      "id": "f3pYusF4Pt1F",
      "execution_count": 15,
      "outputs": [
        {
          "output_type": "stream",
          "name": "stdout",
          "text": [
            "^C\n"
          ]
        }
      ]
    },
    {
      "cell_type": "code",
      "source": [
        "!cat $FILE_PATH | wc -l"
      ],
      "metadata": {
        "id": "C91pBZtEQ8qN",
        "outputId": "f839923f-f175-4871-fd0e-108d73fe57d7",
        "colab": {
          "base_uri": "https://localhost:8080/"
        }
      },
      "id": "C91pBZtEQ8qN",
      "execution_count": 16,
      "outputs": [
        {
          "output_type": "stream",
          "name": "stdout",
          "text": [
            "^C\n"
          ]
        }
      ]
    },
    {
      "cell_type": "markdown",
      "id": "275b8ac0-17a1-4df2-9287-efae1f0c6740",
      "metadata": {
        "id": "275b8ac0-17a1-4df2-9287-efae1f0c6740"
      },
      "source": [
        "## 11. 先頭からN行を出力\n",
        "ファイルの先頭N行だけを表示せよ。例えば、N=10として先頭10行を表示せよ。確認にはheadコマンドを用いよ。"
      ]
    },
    {
      "cell_type": "code",
      "source": [],
      "metadata": {
        "id": "DU-HjHfPCyNR"
      },
      "id": "DU-HjHfPCyNR",
      "execution_count": null,
      "outputs": []
    },
    {
      "cell_type": "markdown",
      "id": "b7606710-56c9-4aea-90c8-48e57c3c73df",
      "metadata": {
        "id": "b7606710-56c9-4aea-90c8-48e57c3c73df"
      },
      "source": [
        "## 12. 末尾のN行を出力\n",
        "ファイルの末尾N行だけを表示せよ。例えば、N=10として末尾10行を表示せよ。確認にはtailコマンドを用いよ。"
      ]
    },
    {
      "cell_type": "markdown",
      "id": "6ce5a4f0-b73a-43a0-be8c-c78142882e5c",
      "metadata": {
        "id": "6ce5a4f0-b73a-43a0-be8c-c78142882e5c"
      },
      "source": [
        "## 13. タブをスペースに置換\n",
        "ファイルの先頭10行に対して、タブ1文字につきスペース1文字に置換して出力せよ。確認にはsedコマンド、trコマンド、もしくはexpandコマンドなどを用いよ。"
      ]
    },
    {
      "cell_type": "markdown",
      "id": "eaef4ffb-c436-41ab-a649-e4d5fd385a76",
      "metadata": {
        "id": "eaef4ffb-c436-41ab-a649-e4d5fd385a76"
      },
      "source": [
        "## 14. 1列目を出力\n",
        "ファイルの先頭10行に対して、各行の1列目だけを抜き出して表示せよ。確認にはcutコマンドなどを用いよ。"
      ]
    },
    {
      "cell_type": "markdown",
      "id": "00c76a76-98bc-4ccc-918d-459b8d7954cf",
      "metadata": {
        "id": "00c76a76-98bc-4ccc-918d-459b8d7954cf"
      },
      "source": [
        "## 15. ファイルをN分割する\n",
        "ファイルを行単位でN分割し、別のファイルに格納せよ。例えば、N=10としてファイルを10分割せよ。同様の処理をsplitコマンドで実現せよ。"
      ]
    },
    {
      "cell_type": "code",
      "source": [],
      "metadata": {
        "id": "TBNxpARJC8v-"
      },
      "id": "TBNxpARJC8v-",
      "execution_count": null,
      "outputs": []
    },
    {
      "cell_type": "markdown",
      "id": "bc88859b-8a4d-4028-9aa4-684ab5ad9797",
      "metadata": {
        "id": "bc88859b-8a4d-4028-9aa4-684ab5ad9797"
      },
      "source": [
        "## 16. ランダムに各行を並び替える\n",
        "ファイルを行単位でランダムに並び替えよ（注意: 各行の内容は変更せずに並び替えよ）。同様の処理をshufコマンドで実現せよ。"
      ]
    },
    {
      "cell_type": "markdown",
      "id": "1041d23d-1a44-49c3-b95a-223fa9e3d3ae",
      "metadata": {
        "id": "1041d23d-1a44-49c3-b95a-223fa9e3d3ae"
      },
      "source": [
        "## 17. １列目の文字列の異なり\n",
        "1列目の文字列の異なり（文字列の種類）を求めよ。確認にはcut, sort, uniqコマンドを用いよ。"
      ]
    },
    {
      "cell_type": "markdown",
      "id": "3f5363e2-d751-40cc-958c-86d8b185089d",
      "metadata": {
        "id": "3f5363e2-d751-40cc-958c-86d8b185089d"
      },
      "source": [
        "## 18. 各行の1列目の文字列の出現頻度を求め、出現頻度の高い順に並べる\n",
        "1列目の文字列の出現頻度を求め、出現頻度と名前を出現頻度の多い順に並べて表示せよ。確認にはcut, uniq, sortコマンドを用いよ。"
      ]
    },
    {
      "cell_type": "markdown",
      "id": "5ea1c928-6748-4f02-9e65-2110655b30d8",
      "metadata": {
        "id": "5ea1c928-6748-4f02-9e65-2110655b30d8"
      },
      "source": [
        "## 19. 3列目の数値の降順に各行を並び替える\n",
        "3列目の数値の逆順でファイルの各行を整列せよ（注意: 各行の内容は変更せずに並び替えよ）。同様の処理をsortコマンドで実現せよ。"
      ]
    },
    {
      "cell_type": "code",
      "source": [],
      "metadata": {
        "id": "uvnfvgydC-B1"
      },
      "id": "uvnfvgydC-B1",
      "execution_count": null,
      "outputs": []
    }
  ],
  "metadata": {
    "colab": {
      "provenance": []
    },
    "kernelspec": {
      "display_name": "Python 3 (ipykernel)",
      "language": "python",
      "name": "python3"
    },
    "language_info": {
      "codemirror_mode": {
        "name": "ipython",
        "version": 3
      },
      "file_extension": ".py",
      "mimetype": "text/x-python",
      "name": "python",
      "nbconvert_exporter": "python",
      "pygments_lexer": "ipython3",
      "version": "3.12.3"
    }
  },
  "nbformat": 4,
  "nbformat_minor": 5
}